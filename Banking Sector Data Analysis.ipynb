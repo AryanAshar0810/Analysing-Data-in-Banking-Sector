{
 "cells": [
  {
   "cell_type": "markdown",
   "metadata": {},
   "source": [
    "<h1><center><b>QUESTION - 7 </b></center></h1>\n",
    "<b><ul><h2>\n",
    "    <li>Name: - Aryan Omkar Ashar\n",
    "    <li>Reg.Number: - 19BAI10094\n",
    "    <li>Course Code: - NAS2001\n",
    "    <li>Course Title: - Advanced Data Analytics\n",
    "    <li>Slot: - A21+A22+A23\n",
    "    <li>Faculty: - Dr Kamlesh Chandravanshi\n",
    "    </h2>"
   ]
  },
  {
   "cell_type": "markdown",
   "metadata": {},
   "source": [
    "<b>Q7. Banking Sector: Understand customer spend & repayment behavior, along with evaluating areas of bankruptcy, fraud, and collections. Also, respond to customer requests for help with proactive offers and service. "
   ]
  },
  {
   "cell_type": "code",
   "execution_count": 1,
   "metadata": {},
   "outputs": [],
   "source": [
    "import pandas as pd\n",
    "import numpy as np\n",
    "import pandas_profiling as pp\n",
    "import matplotlib.pyplot as plt\n",
    "%matplotlib inline\n",
    "import seaborn as sns\n",
    "from datetime import datetime,timedelta"
   ]
  },
  {
   "cell_type": "code",
   "execution_count": 3,
   "metadata": {},
   "outputs": [],
   "source": [
    "customer_acquisition=pd.read_csv('Customer Acqusition.csv')"
   ]
  },
  {
   "cell_type": "code",
   "execution_count": 4,
   "metadata": {},
   "outputs": [],
   "source": [
    "spend_data=pd.read_csv('spend.csv')"
   ]
  },
  {
   "cell_type": "code",
   "execution_count": 5,
   "metadata": {},
   "outputs": [],
   "source": [
    "repayment_data=pd.read_csv('Repayment.csv')"
   ]
  },
  {
   "cell_type": "code",
   "execution_count": 6,
   "metadata": {},
   "outputs": [
    {
     "data": {
      "text/html": [
       "<div>\n",
       "<style scoped>\n",
       "    .dataframe tbody tr th:only-of-type {\n",
       "        vertical-align: middle;\n",
       "    }\n",
       "\n",
       "    .dataframe tbody tr th {\n",
       "        vertical-align: top;\n",
       "    }\n",
       "\n",
       "    .dataframe thead th {\n",
       "        text-align: right;\n",
       "    }\n",
       "</style>\n",
       "<table border=\"1\" class=\"dataframe\">\n",
       "  <thead>\n",
       "    <tr style=\"text-align: right;\">\n",
       "      <th></th>\n",
       "      <th>SL No:</th>\n",
       "      <th>Customer</th>\n",
       "      <th>Month</th>\n",
       "      <th>Amount</th>\n",
       "      <th>Unnamed: 4</th>\n",
       "    </tr>\n",
       "  </thead>\n",
       "  <tbody>\n",
       "    <tr>\n",
       "      <th>0</th>\n",
       "      <td>NaN</td>\n",
       "      <td>A1</td>\n",
       "      <td>12-Jan-04</td>\n",
       "      <td>495414.75</td>\n",
       "      <td>NaN</td>\n",
       "    </tr>\n",
       "    <tr>\n",
       "      <th>1</th>\n",
       "      <td>2.0</td>\n",
       "      <td>A1</td>\n",
       "      <td>3-Jan-04</td>\n",
       "      <td>245899.02</td>\n",
       "      <td>NaN</td>\n",
       "    </tr>\n",
       "    <tr>\n",
       "      <th>2</th>\n",
       "      <td>3.0</td>\n",
       "      <td>A1</td>\n",
       "      <td>15-Jan-04</td>\n",
       "      <td>259490.06</td>\n",
       "      <td>NaN</td>\n",
       "    </tr>\n",
       "    <tr>\n",
       "      <th>3</th>\n",
       "      <td>4.0</td>\n",
       "      <td>A1</td>\n",
       "      <td>25-Jan-04</td>\n",
       "      <td>437555.12</td>\n",
       "      <td>NaN</td>\n",
       "    </tr>\n",
       "    <tr>\n",
       "      <th>4</th>\n",
       "      <td>5.0</td>\n",
       "      <td>A1</td>\n",
       "      <td>17-Jan-05</td>\n",
       "      <td>165972.88</td>\n",
       "      <td>NaN</td>\n",
       "    </tr>\n",
       "  </tbody>\n",
       "</table>\n",
       "</div>"
      ],
      "text/plain": [
       "   SL No: Customer      Month     Amount  Unnamed: 4\n",
       "0     NaN       A1  12-Jan-04  495414.75         NaN\n",
       "1     2.0       A1   3-Jan-04  245899.02         NaN\n",
       "2     3.0       A1  15-Jan-04  259490.06         NaN\n",
       "3     4.0       A1  25-Jan-04  437555.12         NaN\n",
       "4     5.0       A1  17-Jan-05  165972.88         NaN"
      ]
     },
     "execution_count": 6,
     "metadata": {},
     "output_type": "execute_result"
    }
   ],
   "source": [
    "repayment_data.head()"
   ]
  },
  {
   "cell_type": "code",
   "execution_count": 7,
   "metadata": {},
   "outputs": [],
   "source": [
    "#Drop the unnamed columns,SL No from repayment_data "
   ]
  },
  {
   "cell_type": "code",
   "execution_count": 8,
   "metadata": {},
   "outputs": [],
   "source": [
    "repayment_data.drop(['Unnamed: 4','SL No:'],axis=1,inplace=True)"
   ]
  },
  {
   "cell_type": "code",
   "execution_count": 9,
   "metadata": {},
   "outputs": [],
   "source": [
    "#drop the rows which contain missing values\n",
    "repayment_data.dropna(axis=0,inplace=True)"
   ]
  },
  {
   "cell_type": "code",
   "execution_count": 10,
   "metadata": {},
   "outputs": [],
   "source": [
    "#change the type of month column from object to datetime\n",
    "repayment_data['Month']=repayment_data['Month'].apply(lambda x:pd.to_datetime(x))"
   ]
  },
  {
   "cell_type": "code",
   "execution_count": 11,
   "metadata": {},
   "outputs": [
    {
     "data": {
      "text/html": [
       "<div>\n",
       "<style scoped>\n",
       "    .dataframe tbody tr th:only-of-type {\n",
       "        vertical-align: middle;\n",
       "    }\n",
       "\n",
       "    .dataframe tbody tr th {\n",
       "        vertical-align: top;\n",
       "    }\n",
       "\n",
       "    .dataframe thead th {\n",
       "        text-align: right;\n",
       "    }\n",
       "</style>\n",
       "<table border=\"1\" class=\"dataframe\">\n",
       "  <thead>\n",
       "    <tr style=\"text-align: right;\">\n",
       "      <th></th>\n",
       "      <th>Customer</th>\n",
       "      <th>Month</th>\n",
       "      <th>Amount</th>\n",
       "    </tr>\n",
       "  </thead>\n",
       "  <tbody>\n",
       "    <tr>\n",
       "      <th>0</th>\n",
       "      <td>A1</td>\n",
       "      <td>2004-01-12</td>\n",
       "      <td>495414.75</td>\n",
       "    </tr>\n",
       "    <tr>\n",
       "      <th>1</th>\n",
       "      <td>A1</td>\n",
       "      <td>2004-01-03</td>\n",
       "      <td>245899.02</td>\n",
       "    </tr>\n",
       "    <tr>\n",
       "      <th>2</th>\n",
       "      <td>A1</td>\n",
       "      <td>2004-01-15</td>\n",
       "      <td>259490.06</td>\n",
       "    </tr>\n",
       "    <tr>\n",
       "      <th>3</th>\n",
       "      <td>A1</td>\n",
       "      <td>2004-01-25</td>\n",
       "      <td>437555.12</td>\n",
       "    </tr>\n",
       "    <tr>\n",
       "      <th>4</th>\n",
       "      <td>A1</td>\n",
       "      <td>2005-01-17</td>\n",
       "      <td>165972.88</td>\n",
       "    </tr>\n",
       "  </tbody>\n",
       "</table>\n",
       "</div>"
      ],
      "text/plain": [
       "  Customer      Month     Amount\n",
       "0       A1 2004-01-12  495414.75\n",
       "1       A1 2004-01-03  245899.02\n",
       "2       A1 2004-01-15  259490.06\n",
       "3       A1 2004-01-25  437555.12\n",
       "4       A1 2005-01-17  165972.88"
      ]
     },
     "execution_count": 11,
     "metadata": {},
     "output_type": "execute_result"
    }
   ],
   "source": [
    "repayment_data.head()"
   ]
  },
  {
   "cell_type": "code",
   "execution_count": 12,
   "metadata": {},
   "outputs": [
    {
     "data": {
      "text/html": [
       "<div>\n",
       "<style scoped>\n",
       "    .dataframe tbody tr th:only-of-type {\n",
       "        vertical-align: middle;\n",
       "    }\n",
       "\n",
       "    .dataframe tbody tr th {\n",
       "        vertical-align: top;\n",
       "    }\n",
       "\n",
       "    .dataframe thead th {\n",
       "        text-align: right;\n",
       "    }\n",
       "</style>\n",
       "<table border=\"1\" class=\"dataframe\">\n",
       "  <thead>\n",
       "    <tr style=\"text-align: right;\">\n",
       "      <th></th>\n",
       "      <th>Sl No:</th>\n",
       "      <th>Customer</th>\n",
       "      <th>Month</th>\n",
       "      <th>Type</th>\n",
       "      <th>Amount</th>\n",
       "    </tr>\n",
       "  </thead>\n",
       "  <tbody>\n",
       "    <tr>\n",
       "      <th>0</th>\n",
       "      <td>1</td>\n",
       "      <td>A1</td>\n",
       "      <td>12-Jan-04</td>\n",
       "      <td>JEWELLERY</td>\n",
       "      <td>485470.80</td>\n",
       "    </tr>\n",
       "    <tr>\n",
       "      <th>1</th>\n",
       "      <td>2</td>\n",
       "      <td>A1</td>\n",
       "      <td>3-Jan-04</td>\n",
       "      <td>PETRO</td>\n",
       "      <td>410556.13</td>\n",
       "    </tr>\n",
       "    <tr>\n",
       "      <th>2</th>\n",
       "      <td>3</td>\n",
       "      <td>A1</td>\n",
       "      <td>15-Jan-04</td>\n",
       "      <td>CLOTHES</td>\n",
       "      <td>23740.46</td>\n",
       "    </tr>\n",
       "    <tr>\n",
       "      <th>3</th>\n",
       "      <td>4</td>\n",
       "      <td>A1</td>\n",
       "      <td>25-Jan-04</td>\n",
       "      <td>FOOD</td>\n",
       "      <td>484342.47</td>\n",
       "    </tr>\n",
       "    <tr>\n",
       "      <th>4</th>\n",
       "      <td>5</td>\n",
       "      <td>A1</td>\n",
       "      <td>17-Jan-05</td>\n",
       "      <td>CAMERA</td>\n",
       "      <td>369694.07</td>\n",
       "    </tr>\n",
       "  </tbody>\n",
       "</table>\n",
       "</div>"
      ],
      "text/plain": [
       "   Sl No: Customer      Month       Type     Amount\n",
       "0       1       A1  12-Jan-04  JEWELLERY  485470.80\n",
       "1       2       A1   3-Jan-04      PETRO  410556.13\n",
       "2       3       A1  15-Jan-04    CLOTHES   23740.46\n",
       "3       4       A1  25-Jan-04       FOOD  484342.47\n",
       "4       5       A1  17-Jan-05     CAMERA  369694.07"
      ]
     },
     "execution_count": 12,
     "metadata": {},
     "output_type": "execute_result"
    }
   ],
   "source": [
    "spend_data.head()"
   ]
  },
  {
   "cell_type": "code",
   "execution_count": 13,
   "metadata": {},
   "outputs": [
    {
     "name": "stdout",
     "output_type": "stream",
     "text": [
      "<class 'pandas.core.frame.DataFrame'>\n",
      "RangeIndex: 1500 entries, 0 to 1499\n",
      "Data columns (total 5 columns):\n",
      "Sl No:      1500 non-null int64\n",
      "Customer    1500 non-null object\n",
      "Month       1500 non-null object\n",
      "Type        1500 non-null object\n",
      "Amount      1500 non-null float64\n",
      "dtypes: float64(1), int64(1), object(3)\n",
      "memory usage: 58.7+ KB\n"
     ]
    }
   ],
   "source": [
    "spend_data.info()"
   ]
  },
  {
   "cell_type": "code",
   "execution_count": 14,
   "metadata": {},
   "outputs": [],
   "source": [
    "#drop the column SI No\n",
    "spend_data.drop('Sl No:',axis=1,inplace=True)"
   ]
  },
  {
   "cell_type": "code",
   "execution_count": 15,
   "metadata": {},
   "outputs": [],
   "source": [
    "#Change the type of Month Column from object to datetime\n",
    "spend_data['Month']=spend_data['Month'].apply(lambda x:pd.to_datetime(x))"
   ]
  },
  {
   "cell_type": "code",
   "execution_count": 16,
   "metadata": {},
   "outputs": [
    {
     "data": {
      "text/html": [
       "<div>\n",
       "<style scoped>\n",
       "    .dataframe tbody tr th:only-of-type {\n",
       "        vertical-align: middle;\n",
       "    }\n",
       "\n",
       "    .dataframe tbody tr th {\n",
       "        vertical-align: top;\n",
       "    }\n",
       "\n",
       "    .dataframe thead th {\n",
       "        text-align: right;\n",
       "    }\n",
       "</style>\n",
       "<table border=\"1\" class=\"dataframe\">\n",
       "  <thead>\n",
       "    <tr style=\"text-align: right;\">\n",
       "      <th></th>\n",
       "      <th>Customer</th>\n",
       "      <th>Month</th>\n",
       "      <th>Type</th>\n",
       "      <th>Amount</th>\n",
       "    </tr>\n",
       "  </thead>\n",
       "  <tbody>\n",
       "    <tr>\n",
       "      <th>0</th>\n",
       "      <td>A1</td>\n",
       "      <td>2004-01-12</td>\n",
       "      <td>JEWELLERY</td>\n",
       "      <td>485470.80</td>\n",
       "    </tr>\n",
       "    <tr>\n",
       "      <th>1</th>\n",
       "      <td>A1</td>\n",
       "      <td>2004-01-03</td>\n",
       "      <td>PETRO</td>\n",
       "      <td>410556.13</td>\n",
       "    </tr>\n",
       "    <tr>\n",
       "      <th>2</th>\n",
       "      <td>A1</td>\n",
       "      <td>2004-01-15</td>\n",
       "      <td>CLOTHES</td>\n",
       "      <td>23740.46</td>\n",
       "    </tr>\n",
       "    <tr>\n",
       "      <th>3</th>\n",
       "      <td>A1</td>\n",
       "      <td>2004-01-25</td>\n",
       "      <td>FOOD</td>\n",
       "      <td>484342.47</td>\n",
       "    </tr>\n",
       "    <tr>\n",
       "      <th>4</th>\n",
       "      <td>A1</td>\n",
       "      <td>2005-01-17</td>\n",
       "      <td>CAMERA</td>\n",
       "      <td>369694.07</td>\n",
       "    </tr>\n",
       "  </tbody>\n",
       "</table>\n",
       "</div>"
      ],
      "text/plain": [
       "  Customer      Month       Type     Amount\n",
       "0       A1 2004-01-12  JEWELLERY  485470.80\n",
       "1       A1 2004-01-03      PETRO  410556.13\n",
       "2       A1 2004-01-15    CLOTHES   23740.46\n",
       "3       A1 2004-01-25       FOOD  484342.47\n",
       "4       A1 2005-01-17     CAMERA  369694.07"
      ]
     },
     "execution_count": 16,
     "metadata": {},
     "output_type": "execute_result"
    }
   ],
   "source": [
    "spend_data.head()"
   ]
  },
  {
   "cell_type": "code",
   "execution_count": 17,
   "metadata": {},
   "outputs": [
    {
     "data": {
      "text/plain": [
       "Customer    0\n",
       "Month       0\n",
       "Type        0\n",
       "Amount      0\n",
       "dtype: int64"
      ]
     },
     "execution_count": 17,
     "metadata": {},
     "output_type": "execute_result"
    }
   ],
   "source": [
    "spend_data.isnull().sum()"
   ]
  },
  {
   "cell_type": "raw",
   "metadata": {},
   "source": [
    "spend_data does not contain missing values"
   ]
  },
  {
   "cell_type": "code",
   "execution_count": 18,
   "metadata": {},
   "outputs": [
    {
     "data": {
      "text/html": [
       "<div>\n",
       "<style scoped>\n",
       "    .dataframe tbody tr th:only-of-type {\n",
       "        vertical-align: middle;\n",
       "    }\n",
       "\n",
       "    .dataframe tbody tr th {\n",
       "        vertical-align: top;\n",
       "    }\n",
       "\n",
       "    .dataframe thead th {\n",
       "        text-align: right;\n",
       "    }\n",
       "</style>\n",
       "<table border=\"1\" class=\"dataframe\">\n",
       "  <thead>\n",
       "    <tr style=\"text-align: right;\">\n",
       "      <th></th>\n",
       "      <th>No</th>\n",
       "      <th>Customer</th>\n",
       "      <th>Age</th>\n",
       "      <th>City</th>\n",
       "      <th>Product</th>\n",
       "      <th>Limit</th>\n",
       "      <th>Company</th>\n",
       "      <th>Segment</th>\n",
       "    </tr>\n",
       "  </thead>\n",
       "  <tbody>\n",
       "    <tr>\n",
       "      <th>0</th>\n",
       "      <td>1</td>\n",
       "      <td>A1</td>\n",
       "      <td>76</td>\n",
       "      <td>BANGALORE</td>\n",
       "      <td>Gold</td>\n",
       "      <td>500000.0</td>\n",
       "      <td>C1</td>\n",
       "      <td>Self Employed</td>\n",
       "    </tr>\n",
       "    <tr>\n",
       "      <th>1</th>\n",
       "      <td>2</td>\n",
       "      <td>A2</td>\n",
       "      <td>71</td>\n",
       "      <td>CALCUTTA</td>\n",
       "      <td>Silver</td>\n",
       "      <td>100000.0</td>\n",
       "      <td>C2</td>\n",
       "      <td>Salaried_MNC</td>\n",
       "    </tr>\n",
       "    <tr>\n",
       "      <th>2</th>\n",
       "      <td>3</td>\n",
       "      <td>A3</td>\n",
       "      <td>34</td>\n",
       "      <td>COCHIN</td>\n",
       "      <td>Platimum</td>\n",
       "      <td>10000.0</td>\n",
       "      <td>C3</td>\n",
       "      <td>Salaried_Pvt</td>\n",
       "    </tr>\n",
       "    <tr>\n",
       "      <th>3</th>\n",
       "      <td>4</td>\n",
       "      <td>A4</td>\n",
       "      <td>47</td>\n",
       "      <td>BOMBAY</td>\n",
       "      <td>Platimum</td>\n",
       "      <td>10001.0</td>\n",
       "      <td>C4</td>\n",
       "      <td>Govt</td>\n",
       "    </tr>\n",
       "    <tr>\n",
       "      <th>4</th>\n",
       "      <td>5</td>\n",
       "      <td>A5</td>\n",
       "      <td>56</td>\n",
       "      <td>BANGALORE</td>\n",
       "      <td>Platimum</td>\n",
       "      <td>10002.0</td>\n",
       "      <td>C5</td>\n",
       "      <td>Normal Salary</td>\n",
       "    </tr>\n",
       "  </tbody>\n",
       "</table>\n",
       "</div>"
      ],
      "text/plain": [
       "   No Customer  Age       City   Product     Limit Company        Segment\n",
       "0   1       A1   76  BANGALORE      Gold  500000.0      C1  Self Employed\n",
       "1   2       A2   71   CALCUTTA    Silver  100000.0      C2   Salaried_MNC\n",
       "2   3       A3   34     COCHIN  Platimum   10000.0      C3   Salaried_Pvt\n",
       "3   4       A4   47     BOMBAY  Platimum   10001.0      C4           Govt\n",
       "4   5       A5   56  BANGALORE  Platimum   10002.0      C5  Normal Salary"
      ]
     },
     "execution_count": 18,
     "metadata": {},
     "output_type": "execute_result"
    }
   ],
   "source": [
    "customer_acquisition.head()"
   ]
  },
  {
   "cell_type": "code",
   "execution_count": 19,
   "metadata": {},
   "outputs": [
    {
     "name": "stdout",
     "output_type": "stream",
     "text": [
      "<class 'pandas.core.frame.DataFrame'>\n",
      "RangeIndex: 100 entries, 0 to 99\n",
      "Data columns (total 8 columns):\n",
      "No          100 non-null int64\n",
      "Customer    100 non-null object\n",
      "Age         100 non-null int64\n",
      "City        100 non-null object\n",
      "Product     100 non-null object\n",
      "Limit       100 non-null float64\n",
      "Company     100 non-null object\n",
      "Segment     100 non-null object\n",
      "dtypes: float64(1), int64(2), object(5)\n",
      "memory usage: 6.3+ KB\n"
     ]
    }
   ],
   "source": [
    "customer_acquisition.info()"
   ]
  },
  {
   "cell_type": "raw",
   "metadata": {},
   "source": [
    "customer_acquisition does not contain missing values"
   ]
  },
  {
   "cell_type": "code",
   "execution_count": 20,
   "metadata": {},
   "outputs": [],
   "source": [
    "#drop the No Column from acquisition table\n",
    "customer_acquisition.drop('No',axis=1,inplace=True)"
   ]
  },
  {
   "cell_type": "code",
   "execution_count": 21,
   "metadata": {},
   "outputs": [
    {
     "data": {
      "text/html": [
       "<div>\n",
       "<style scoped>\n",
       "    .dataframe tbody tr th:only-of-type {\n",
       "        vertical-align: middle;\n",
       "    }\n",
       "\n",
       "    .dataframe tbody tr th {\n",
       "        vertical-align: top;\n",
       "    }\n",
       "\n",
       "    .dataframe thead th {\n",
       "        text-align: right;\n",
       "    }\n",
       "</style>\n",
       "<table border=\"1\" class=\"dataframe\">\n",
       "  <thead>\n",
       "    <tr style=\"text-align: right;\">\n",
       "      <th></th>\n",
       "      <th>Customer</th>\n",
       "      <th>Age</th>\n",
       "      <th>City</th>\n",
       "      <th>Product</th>\n",
       "      <th>Limit</th>\n",
       "      <th>Company</th>\n",
       "      <th>Segment</th>\n",
       "    </tr>\n",
       "  </thead>\n",
       "  <tbody>\n",
       "    <tr>\n",
       "      <th>0</th>\n",
       "      <td>A1</td>\n",
       "      <td>76</td>\n",
       "      <td>BANGALORE</td>\n",
       "      <td>Gold</td>\n",
       "      <td>500000.0</td>\n",
       "      <td>C1</td>\n",
       "      <td>Self Employed</td>\n",
       "    </tr>\n",
       "    <tr>\n",
       "      <th>1</th>\n",
       "      <td>A2</td>\n",
       "      <td>71</td>\n",
       "      <td>CALCUTTA</td>\n",
       "      <td>Silver</td>\n",
       "      <td>100000.0</td>\n",
       "      <td>C2</td>\n",
       "      <td>Salaried_MNC</td>\n",
       "    </tr>\n",
       "    <tr>\n",
       "      <th>2</th>\n",
       "      <td>A3</td>\n",
       "      <td>34</td>\n",
       "      <td>COCHIN</td>\n",
       "      <td>Platimum</td>\n",
       "      <td>10000.0</td>\n",
       "      <td>C3</td>\n",
       "      <td>Salaried_Pvt</td>\n",
       "    </tr>\n",
       "    <tr>\n",
       "      <th>3</th>\n",
       "      <td>A4</td>\n",
       "      <td>47</td>\n",
       "      <td>BOMBAY</td>\n",
       "      <td>Platimum</td>\n",
       "      <td>10001.0</td>\n",
       "      <td>C4</td>\n",
       "      <td>Govt</td>\n",
       "    </tr>\n",
       "    <tr>\n",
       "      <th>4</th>\n",
       "      <td>A5</td>\n",
       "      <td>56</td>\n",
       "      <td>BANGALORE</td>\n",
       "      <td>Platimum</td>\n",
       "      <td>10002.0</td>\n",
       "      <td>C5</td>\n",
       "      <td>Normal Salary</td>\n",
       "    </tr>\n",
       "  </tbody>\n",
       "</table>\n",
       "</div>"
      ],
      "text/plain": [
       "  Customer  Age       City   Product     Limit Company        Segment\n",
       "0       A1   76  BANGALORE      Gold  500000.0      C1  Self Employed\n",
       "1       A2   71   CALCUTTA    Silver  100000.0      C2   Salaried_MNC\n",
       "2       A3   34     COCHIN  Platimum   10000.0      C3   Salaried_Pvt\n",
       "3       A4   47     BOMBAY  Platimum   10001.0      C4           Govt\n",
       "4       A5   56  BANGALORE  Platimum   10002.0      C5  Normal Salary"
      ]
     },
     "execution_count": 21,
     "metadata": {},
     "output_type": "execute_result"
    }
   ],
   "source": [
    "customer_acquisition.head()"
   ]
  },
  {
   "cell_type": "markdown",
   "metadata": {},
   "source": [
    "### 1. In the above dataset,"
   ]
  },
  {
   "cell_type": "markdown",
   "metadata": {},
   "source": [
    "#### a. In case age is less than 18, replace it with mean of age values."
   ]
  },
  {
   "cell_type": "code",
   "execution_count": 37,
   "metadata": {},
   "outputs": [],
   "source": [
    "customer_acquisition.loc[(customer_acquisition.Age<18),'Age']=customer_acquisition.Age.mean()"
   ]
  },
  {
   "cell_type": "markdown",
   "metadata": {},
   "source": [
    "#### b. In case spend amount is more than the limit, replace it with 50% of that customer’s limit. (customer’s limit provided in acquisition table is the per transaction limit on his card)"
   ]
  },
  {
   "cell_type": "code",
   "execution_count": 38,
   "metadata": {},
   "outputs": [],
   "source": [
    "Customer_Spend_Transaction=pd.merge(left=customer_acquisition,right=spend_data,on='Customer')"
   ]
  },
  {
   "cell_type": "code",
   "execution_count": 39,
   "metadata": {},
   "outputs": [
    {
     "name": "stdout",
     "output_type": "stream",
     "text": [
      "<class 'pandas.core.frame.DataFrame'>\n",
      "Int64Index: 1500 entries, 0 to 1499\n",
      "Data columns (total 10 columns):\n",
      "Customer    1500 non-null object\n",
      "Age         1500 non-null float64\n",
      "City        1500 non-null object\n",
      "Product     1500 non-null object\n",
      "Limit       1500 non-null float64\n",
      "Company     1500 non-null object\n",
      "Segment     1500 non-null object\n",
      "Month       1500 non-null datetime64[ns]\n",
      "Type        1500 non-null object\n",
      "Amount      1500 non-null float64\n",
      "dtypes: datetime64[ns](1), float64(3), object(6)\n",
      "memory usage: 128.9+ KB\n"
     ]
    }
   ],
   "source": [
    "Customer_Spend_Transaction.info()"
   ]
  },
  {
   "cell_type": "code",
   "execution_count": 40,
   "metadata": {},
   "outputs": [
    {
     "data": {
      "text/html": [
       "<div>\n",
       "<style scoped>\n",
       "    .dataframe tbody tr th:only-of-type {\n",
       "        vertical-align: middle;\n",
       "    }\n",
       "\n",
       "    .dataframe tbody tr th {\n",
       "        vertical-align: top;\n",
       "    }\n",
       "\n",
       "    .dataframe thead th {\n",
       "        text-align: right;\n",
       "    }\n",
       "</style>\n",
       "<table border=\"1\" class=\"dataframe\">\n",
       "  <thead>\n",
       "    <tr style=\"text-align: right;\">\n",
       "      <th></th>\n",
       "      <th>Customer</th>\n",
       "      <th>Age</th>\n",
       "      <th>City</th>\n",
       "      <th>Product</th>\n",
       "      <th>Limit</th>\n",
       "      <th>Company</th>\n",
       "      <th>Segment</th>\n",
       "      <th>Month</th>\n",
       "      <th>Type</th>\n",
       "      <th>Amount</th>\n",
       "    </tr>\n",
       "  </thead>\n",
       "  <tbody>\n",
       "    <tr>\n",
       "      <th>0</th>\n",
       "      <td>A1</td>\n",
       "      <td>76.0</td>\n",
       "      <td>BANGALORE</td>\n",
       "      <td>Gold</td>\n",
       "      <td>500000.0</td>\n",
       "      <td>C1</td>\n",
       "      <td>Self Employed</td>\n",
       "      <td>2004-01-12</td>\n",
       "      <td>JEWELLERY</td>\n",
       "      <td>485470.80</td>\n",
       "    </tr>\n",
       "    <tr>\n",
       "      <th>1</th>\n",
       "      <td>A1</td>\n",
       "      <td>76.0</td>\n",
       "      <td>BANGALORE</td>\n",
       "      <td>Gold</td>\n",
       "      <td>500000.0</td>\n",
       "      <td>C1</td>\n",
       "      <td>Self Employed</td>\n",
       "      <td>2004-01-03</td>\n",
       "      <td>PETRO</td>\n",
       "      <td>410556.13</td>\n",
       "    </tr>\n",
       "    <tr>\n",
       "      <th>2</th>\n",
       "      <td>A1</td>\n",
       "      <td>76.0</td>\n",
       "      <td>BANGALORE</td>\n",
       "      <td>Gold</td>\n",
       "      <td>500000.0</td>\n",
       "      <td>C1</td>\n",
       "      <td>Self Employed</td>\n",
       "      <td>2004-01-15</td>\n",
       "      <td>CLOTHES</td>\n",
       "      <td>23740.46</td>\n",
       "    </tr>\n",
       "    <tr>\n",
       "      <th>3</th>\n",
       "      <td>A1</td>\n",
       "      <td>76.0</td>\n",
       "      <td>BANGALORE</td>\n",
       "      <td>Gold</td>\n",
       "      <td>500000.0</td>\n",
       "      <td>C1</td>\n",
       "      <td>Self Employed</td>\n",
       "      <td>2004-01-25</td>\n",
       "      <td>FOOD</td>\n",
       "      <td>484342.47</td>\n",
       "    </tr>\n",
       "    <tr>\n",
       "      <th>4</th>\n",
       "      <td>A1</td>\n",
       "      <td>76.0</td>\n",
       "      <td>BANGALORE</td>\n",
       "      <td>Gold</td>\n",
       "      <td>500000.0</td>\n",
       "      <td>C1</td>\n",
       "      <td>Self Employed</td>\n",
       "      <td>2005-01-17</td>\n",
       "      <td>CAMERA</td>\n",
       "      <td>369694.07</td>\n",
       "    </tr>\n",
       "  </tbody>\n",
       "</table>\n",
       "</div>"
      ],
      "text/plain": [
       "  Customer   Age       City Product     Limit Company        Segment  \\\n",
       "0       A1  76.0  BANGALORE    Gold  500000.0      C1  Self Employed   \n",
       "1       A1  76.0  BANGALORE    Gold  500000.0      C1  Self Employed   \n",
       "2       A1  76.0  BANGALORE    Gold  500000.0      C1  Self Employed   \n",
       "3       A1  76.0  BANGALORE    Gold  500000.0      C1  Self Employed   \n",
       "4       A1  76.0  BANGALORE    Gold  500000.0      C1  Self Employed   \n",
       "\n",
       "       Month       Type     Amount  \n",
       "0 2004-01-12  JEWELLERY  485470.80  \n",
       "1 2004-01-03      PETRO  410556.13  \n",
       "2 2004-01-15    CLOTHES   23740.46  \n",
       "3 2004-01-25       FOOD  484342.47  \n",
       "4 2005-01-17     CAMERA  369694.07  "
      ]
     },
     "execution_count": 40,
     "metadata": {},
     "output_type": "execute_result"
    }
   ],
   "source": [
    "Customer_Spend_Transaction.head()"
   ]
  },
  {
   "cell_type": "code",
   "execution_count": 50,
   "metadata": {},
   "outputs": [],
   "source": [
    "Customer_Spend_Transaction['Amount']=np.where(Customer_Spend_Transaction.Amount>Customer_Spend_Transaction.Limit,Customer_Spend_Transaction.Limit/2,Customer_Spend_Transaction.Amount)"
   ]
  },
  {
   "cell_type": "code",
   "execution_count": 52,
   "metadata": {},
   "outputs": [
    {
     "data": {
      "text/html": [
       "<div>\n",
       "<style scoped>\n",
       "    .dataframe tbody tr th:only-of-type {\n",
       "        vertical-align: middle;\n",
       "    }\n",
       "\n",
       "    .dataframe tbody tr th {\n",
       "        vertical-align: top;\n",
       "    }\n",
       "\n",
       "    .dataframe thead th {\n",
       "        text-align: right;\n",
       "    }\n",
       "</style>\n",
       "<table border=\"1\" class=\"dataframe\">\n",
       "  <thead>\n",
       "    <tr style=\"text-align: right;\">\n",
       "      <th></th>\n",
       "      <th>Customer</th>\n",
       "      <th>Age</th>\n",
       "      <th>City</th>\n",
       "      <th>Product</th>\n",
       "      <th>Limit</th>\n",
       "      <th>Company</th>\n",
       "      <th>Segment</th>\n",
       "      <th>Month</th>\n",
       "      <th>Type</th>\n",
       "      <th>Amount</th>\n",
       "    </tr>\n",
       "  </thead>\n",
       "  <tbody>\n",
       "    <tr>\n",
       "      <th>0</th>\n",
       "      <td>A1</td>\n",
       "      <td>76.0</td>\n",
       "      <td>BANGALORE</td>\n",
       "      <td>Gold</td>\n",
       "      <td>500000.0</td>\n",
       "      <td>C1</td>\n",
       "      <td>Self Employed</td>\n",
       "      <td>2004-01-12</td>\n",
       "      <td>JEWELLERY</td>\n",
       "      <td>485470.80</td>\n",
       "    </tr>\n",
       "    <tr>\n",
       "      <th>1</th>\n",
       "      <td>A1</td>\n",
       "      <td>76.0</td>\n",
       "      <td>BANGALORE</td>\n",
       "      <td>Gold</td>\n",
       "      <td>500000.0</td>\n",
       "      <td>C1</td>\n",
       "      <td>Self Employed</td>\n",
       "      <td>2004-01-03</td>\n",
       "      <td>PETRO</td>\n",
       "      <td>410556.13</td>\n",
       "    </tr>\n",
       "    <tr>\n",
       "      <th>2</th>\n",
       "      <td>A1</td>\n",
       "      <td>76.0</td>\n",
       "      <td>BANGALORE</td>\n",
       "      <td>Gold</td>\n",
       "      <td>500000.0</td>\n",
       "      <td>C1</td>\n",
       "      <td>Self Employed</td>\n",
       "      <td>2004-01-15</td>\n",
       "      <td>CLOTHES</td>\n",
       "      <td>23740.46</td>\n",
       "    </tr>\n",
       "    <tr>\n",
       "      <th>3</th>\n",
       "      <td>A1</td>\n",
       "      <td>76.0</td>\n",
       "      <td>BANGALORE</td>\n",
       "      <td>Gold</td>\n",
       "      <td>500000.0</td>\n",
       "      <td>C1</td>\n",
       "      <td>Self Employed</td>\n",
       "      <td>2004-01-25</td>\n",
       "      <td>FOOD</td>\n",
       "      <td>484342.47</td>\n",
       "    </tr>\n",
       "    <tr>\n",
       "      <th>4</th>\n",
       "      <td>A1</td>\n",
       "      <td>76.0</td>\n",
       "      <td>BANGALORE</td>\n",
       "      <td>Gold</td>\n",
       "      <td>500000.0</td>\n",
       "      <td>C1</td>\n",
       "      <td>Self Employed</td>\n",
       "      <td>2005-01-17</td>\n",
       "      <td>CAMERA</td>\n",
       "      <td>369694.07</td>\n",
       "    </tr>\n",
       "  </tbody>\n",
       "</table>\n",
       "</div>"
      ],
      "text/plain": [
       "  Customer   Age       City Product     Limit Company        Segment  \\\n",
       "0       A1  76.0  BANGALORE    Gold  500000.0      C1  Self Employed   \n",
       "1       A1  76.0  BANGALORE    Gold  500000.0      C1  Self Employed   \n",
       "2       A1  76.0  BANGALORE    Gold  500000.0      C1  Self Employed   \n",
       "3       A1  76.0  BANGALORE    Gold  500000.0      C1  Self Employed   \n",
       "4       A1  76.0  BANGALORE    Gold  500000.0      C1  Self Employed   \n",
       "\n",
       "       Month       Type     Amount  \n",
       "0 2004-01-12  JEWELLERY  485470.80  \n",
       "1 2004-01-03      PETRO  410556.13  \n",
       "2 2004-01-15    CLOTHES   23740.46  \n",
       "3 2004-01-25       FOOD  484342.47  \n",
       "4 2005-01-17     CAMERA  369694.07  "
      ]
     },
     "execution_count": 52,
     "metadata": {},
     "output_type": "execute_result"
    }
   ],
   "source": [
    "Customer_Spend_Transaction.head()"
   ]
  },
  {
   "cell_type": "markdown",
   "metadata": {},
   "source": [
    "####  c. Incase the repayment amount is more than the limit, replace the repayment with the limit. "
   ]
  },
  {
   "cell_type": "code",
   "execution_count": 53,
   "metadata": {},
   "outputs": [],
   "source": [
    "Customer_Repayment_Transaction=pd.merge(left=customer_acquisition,right=repayment_data,on='Customer')"
   ]
  },
  {
   "cell_type": "code",
   "execution_count": 54,
   "metadata": {},
   "outputs": [
    {
     "name": "stdout",
     "output_type": "stream",
     "text": [
      "<class 'pandas.core.frame.DataFrame'>\n",
      "Int64Index: 1500 entries, 0 to 1499\n",
      "Data columns (total 9 columns):\n",
      "Customer    1500 non-null object\n",
      "Age         1500 non-null float64\n",
      "City        1500 non-null object\n",
      "Product     1500 non-null object\n",
      "Limit       1500 non-null float64\n",
      "Company     1500 non-null object\n",
      "Segment     1500 non-null object\n",
      "Month       1500 non-null datetime64[ns]\n",
      "Amount      1500 non-null float64\n",
      "dtypes: datetime64[ns](1), float64(3), object(5)\n",
      "memory usage: 117.2+ KB\n"
     ]
    }
   ],
   "source": [
    "Customer_Repayment_Transaction.info()"
   ]
  },
  {
   "cell_type": "code",
   "execution_count": 55,
   "metadata": {},
   "outputs": [
    {
     "data": {
      "text/html": [
       "<div>\n",
       "<style scoped>\n",
       "    .dataframe tbody tr th:only-of-type {\n",
       "        vertical-align: middle;\n",
       "    }\n",
       "\n",
       "    .dataframe tbody tr th {\n",
       "        vertical-align: top;\n",
       "    }\n",
       "\n",
       "    .dataframe thead th {\n",
       "        text-align: right;\n",
       "    }\n",
       "</style>\n",
       "<table border=\"1\" class=\"dataframe\">\n",
       "  <thead>\n",
       "    <tr style=\"text-align: right;\">\n",
       "      <th></th>\n",
       "      <th>Customer</th>\n",
       "      <th>Age</th>\n",
       "      <th>City</th>\n",
       "      <th>Product</th>\n",
       "      <th>Limit</th>\n",
       "      <th>Company</th>\n",
       "      <th>Segment</th>\n",
       "      <th>Month</th>\n",
       "      <th>Amount</th>\n",
       "    </tr>\n",
       "  </thead>\n",
       "  <tbody>\n",
       "    <tr>\n",
       "      <th>0</th>\n",
       "      <td>A1</td>\n",
       "      <td>76.0</td>\n",
       "      <td>BANGALORE</td>\n",
       "      <td>Gold</td>\n",
       "      <td>500000.0</td>\n",
       "      <td>C1</td>\n",
       "      <td>Self Employed</td>\n",
       "      <td>2004-01-12</td>\n",
       "      <td>495414.75</td>\n",
       "    </tr>\n",
       "    <tr>\n",
       "      <th>1</th>\n",
       "      <td>A1</td>\n",
       "      <td>76.0</td>\n",
       "      <td>BANGALORE</td>\n",
       "      <td>Gold</td>\n",
       "      <td>500000.0</td>\n",
       "      <td>C1</td>\n",
       "      <td>Self Employed</td>\n",
       "      <td>2004-01-03</td>\n",
       "      <td>245899.02</td>\n",
       "    </tr>\n",
       "    <tr>\n",
       "      <th>2</th>\n",
       "      <td>A1</td>\n",
       "      <td>76.0</td>\n",
       "      <td>BANGALORE</td>\n",
       "      <td>Gold</td>\n",
       "      <td>500000.0</td>\n",
       "      <td>C1</td>\n",
       "      <td>Self Employed</td>\n",
       "      <td>2004-01-15</td>\n",
       "      <td>259490.06</td>\n",
       "    </tr>\n",
       "    <tr>\n",
       "      <th>3</th>\n",
       "      <td>A1</td>\n",
       "      <td>76.0</td>\n",
       "      <td>BANGALORE</td>\n",
       "      <td>Gold</td>\n",
       "      <td>500000.0</td>\n",
       "      <td>C1</td>\n",
       "      <td>Self Employed</td>\n",
       "      <td>2004-01-25</td>\n",
       "      <td>437555.12</td>\n",
       "    </tr>\n",
       "    <tr>\n",
       "      <th>4</th>\n",
       "      <td>A1</td>\n",
       "      <td>76.0</td>\n",
       "      <td>BANGALORE</td>\n",
       "      <td>Gold</td>\n",
       "      <td>500000.0</td>\n",
       "      <td>C1</td>\n",
       "      <td>Self Employed</td>\n",
       "      <td>2005-01-17</td>\n",
       "      <td>165972.88</td>\n",
       "    </tr>\n",
       "  </tbody>\n",
       "</table>\n",
       "</div>"
      ],
      "text/plain": [
       "  Customer   Age       City Product     Limit Company        Segment  \\\n",
       "0       A1  76.0  BANGALORE    Gold  500000.0      C1  Self Employed   \n",
       "1       A1  76.0  BANGALORE    Gold  500000.0      C1  Self Employed   \n",
       "2       A1  76.0  BANGALORE    Gold  500000.0      C1  Self Employed   \n",
       "3       A1  76.0  BANGALORE    Gold  500000.0      C1  Self Employed   \n",
       "4       A1  76.0  BANGALORE    Gold  500000.0      C1  Self Employed   \n",
       "\n",
       "       Month     Amount  \n",
       "0 2004-01-12  495414.75  \n",
       "1 2004-01-03  245899.02  \n",
       "2 2004-01-15  259490.06  \n",
       "3 2004-01-25  437555.12  \n",
       "4 2005-01-17  165972.88  "
      ]
     },
     "execution_count": 55,
     "metadata": {},
     "output_type": "execute_result"
    }
   ],
   "source": [
    "Customer_Repayment_Transaction.head()"
   ]
  },
  {
   "cell_type": "code",
   "execution_count": 56,
   "metadata": {},
   "outputs": [],
   "source": [
    "Customer_Repayment_Transaction['Amount']=np.where(Customer_Repayment_Transaction.Amount>Customer_Repayment_Transaction.Limit,Customer_Repayment_Transaction.Limit,Customer_Repayment_Transaction.Amount)"
   ]
  },
  {
   "cell_type": "code",
   "execution_count": 57,
   "metadata": {},
   "outputs": [
    {
     "data": {
      "text/html": [
       "<div>\n",
       "<style scoped>\n",
       "    .dataframe tbody tr th:only-of-type {\n",
       "        vertical-align: middle;\n",
       "    }\n",
       "\n",
       "    .dataframe tbody tr th {\n",
       "        vertical-align: top;\n",
       "    }\n",
       "\n",
       "    .dataframe thead th {\n",
       "        text-align: right;\n",
       "    }\n",
       "</style>\n",
       "<table border=\"1\" class=\"dataframe\">\n",
       "  <thead>\n",
       "    <tr style=\"text-align: right;\">\n",
       "      <th></th>\n",
       "      <th>Customer</th>\n",
       "      <th>Age</th>\n",
       "      <th>City</th>\n",
       "      <th>Product</th>\n",
       "      <th>Limit</th>\n",
       "      <th>Company</th>\n",
       "      <th>Segment</th>\n",
       "      <th>Month</th>\n",
       "      <th>Amount</th>\n",
       "    </tr>\n",
       "  </thead>\n",
       "  <tbody>\n",
       "    <tr>\n",
       "      <th>0</th>\n",
       "      <td>A1</td>\n",
       "      <td>76.0</td>\n",
       "      <td>BANGALORE</td>\n",
       "      <td>Gold</td>\n",
       "      <td>500000.0</td>\n",
       "      <td>C1</td>\n",
       "      <td>Self Employed</td>\n",
       "      <td>2004-01-12</td>\n",
       "      <td>495414.75</td>\n",
       "    </tr>\n",
       "    <tr>\n",
       "      <th>1</th>\n",
       "      <td>A1</td>\n",
       "      <td>76.0</td>\n",
       "      <td>BANGALORE</td>\n",
       "      <td>Gold</td>\n",
       "      <td>500000.0</td>\n",
       "      <td>C1</td>\n",
       "      <td>Self Employed</td>\n",
       "      <td>2004-01-03</td>\n",
       "      <td>245899.02</td>\n",
       "    </tr>\n",
       "    <tr>\n",
       "      <th>2</th>\n",
       "      <td>A1</td>\n",
       "      <td>76.0</td>\n",
       "      <td>BANGALORE</td>\n",
       "      <td>Gold</td>\n",
       "      <td>500000.0</td>\n",
       "      <td>C1</td>\n",
       "      <td>Self Employed</td>\n",
       "      <td>2004-01-15</td>\n",
       "      <td>259490.06</td>\n",
       "    </tr>\n",
       "    <tr>\n",
       "      <th>3</th>\n",
       "      <td>A1</td>\n",
       "      <td>76.0</td>\n",
       "      <td>BANGALORE</td>\n",
       "      <td>Gold</td>\n",
       "      <td>500000.0</td>\n",
       "      <td>C1</td>\n",
       "      <td>Self Employed</td>\n",
       "      <td>2004-01-25</td>\n",
       "      <td>437555.12</td>\n",
       "    </tr>\n",
       "    <tr>\n",
       "      <th>4</th>\n",
       "      <td>A1</td>\n",
       "      <td>76.0</td>\n",
       "      <td>BANGALORE</td>\n",
       "      <td>Gold</td>\n",
       "      <td>500000.0</td>\n",
       "      <td>C1</td>\n",
       "      <td>Self Employed</td>\n",
       "      <td>2005-01-17</td>\n",
       "      <td>165972.88</td>\n",
       "    </tr>\n",
       "  </tbody>\n",
       "</table>\n",
       "</div>"
      ],
      "text/plain": [
       "  Customer   Age       City Product     Limit Company        Segment  \\\n",
       "0       A1  76.0  BANGALORE    Gold  500000.0      C1  Self Employed   \n",
       "1       A1  76.0  BANGALORE    Gold  500000.0      C1  Self Employed   \n",
       "2       A1  76.0  BANGALORE    Gold  500000.0      C1  Self Employed   \n",
       "3       A1  76.0  BANGALORE    Gold  500000.0      C1  Self Employed   \n",
       "4       A1  76.0  BANGALORE    Gold  500000.0      C1  Self Employed   \n",
       "\n",
       "       Month     Amount  \n",
       "0 2004-01-12  495414.75  \n",
       "1 2004-01-03  245899.02  \n",
       "2 2004-01-15  259490.06  \n",
       "3 2004-01-25  437555.12  \n",
       "4 2005-01-17  165972.88  "
      ]
     },
     "execution_count": 57,
     "metadata": {},
     "output_type": "execute_result"
    }
   ],
   "source": [
    "Customer_Repayment_Transaction.head()"
   ]
  },
  {
   "cell_type": "markdown",
   "metadata": {},
   "source": [
    "### 2. From the above dataset create the following summaries:"
   ]
  },
  {
   "cell_type": "markdown",
   "metadata": {},
   "source": [
    "####  a. How many distinct customers exist?"
   ]
  },
  {
   "cell_type": "code",
   "execution_count": 63,
   "metadata": {},
   "outputs": [
    {
     "data": {
      "text/plain": [
       "100"
      ]
     },
     "execution_count": 63,
     "metadata": {},
     "output_type": "execute_result"
    }
   ],
   "source": [
    "Customer_Spend_Transaction['Customer'].drop_duplicates().count()"
   ]
  },
  {
   "cell_type": "code",
   "execution_count": 60,
   "metadata": {},
   "outputs": [
    {
     "data": {
      "text/plain": [
       "100"
      ]
     },
     "execution_count": 60,
     "metadata": {},
     "output_type": "execute_result"
    }
   ],
   "source": [
    "Customer_Repayment_Transaction['Customer'].drop_duplicates().count()"
   ]
  },
  {
   "cell_type": "markdown",
   "metadata": {},
   "source": [
    "The count of distinct customers is 100."
   ]
  },
  {
   "cell_type": "markdown",
   "metadata": {},
   "source": [
    "#### b. How many distinct categories exist?"
   ]
  },
  {
   "cell_type": "code",
   "execution_count": 66,
   "metadata": {},
   "outputs": [
    {
     "data": {
      "text/plain": [
       "0         Gold\n",
       "18      Silver\n",
       "29    Platimum\n",
       "Name: Product, dtype: object"
      ]
     },
     "execution_count": 66,
     "metadata": {},
     "output_type": "execute_result"
    }
   ],
   "source": [
    "Customer_Spend_Transaction['Product'].drop_duplicates()"
   ]
  },
  {
   "cell_type": "code",
   "execution_count": 65,
   "metadata": {},
   "outputs": [
    {
     "data": {
      "text/plain": [
       "0         Gold\n",
       "18      Silver\n",
       "29    Platimum\n",
       "Name: Product, dtype: object"
      ]
     },
     "execution_count": 65,
     "metadata": {},
     "output_type": "execute_result"
    }
   ],
   "source": [
    "Customer_Repayment_Transaction['Product'].drop_duplicates()"
   ]
  },
  {
   "cell_type": "raw",
   "metadata": {},
   "source": [
    "The count of distinct product categories is equals to 3."
   ]
  },
  {
   "cell_type": "markdown",
   "metadata": {},
   "source": [
    "####  c. What is the average monthly spend by customers? "
   ]
  },
  {
   "cell_type": "code",
   "execution_count": 68,
   "metadata": {},
   "outputs": [],
   "source": [
    "Customer_Spend_Amount=Customer_Spend_Transaction.groupby(['Customer','Month'])[['Amount']].mean().reset_index()"
   ]
  },
  {
   "cell_type": "code",
   "execution_count": 69,
   "metadata": {},
   "outputs": [],
   "source": [
    "Customer_Spend_Amount['Spend_Month']=Customer_Spend_Amount['Month'].apply(lambda x:x.month)"
   ]
  },
  {
   "cell_type": "code",
   "execution_count": 70,
   "metadata": {},
   "outputs": [],
   "source": [
    "AvgMonthlySpend=Customer_Spend_Amount.groupby(['Customer','Spend_Month'])[['Amount']].mean().reset_index()"
   ]
  },
  {
   "cell_type": "code",
   "execution_count": 72,
   "metadata": {},
   "outputs": [
    {
     "data": {
      "text/html": [
       "<div>\n",
       "<style scoped>\n",
       "    .dataframe tbody tr th:only-of-type {\n",
       "        vertical-align: middle;\n",
       "    }\n",
       "\n",
       "    .dataframe tbody tr th {\n",
       "        vertical-align: top;\n",
       "    }\n",
       "\n",
       "    .dataframe thead th {\n",
       "        text-align: right;\n",
       "    }\n",
       "</style>\n",
       "<table border=\"1\" class=\"dataframe\">\n",
       "  <thead>\n",
       "    <tr style=\"text-align: right;\">\n",
       "      <th></th>\n",
       "      <th>Customer</th>\n",
       "      <th>Spend_Month</th>\n",
       "      <th>Amount</th>\n",
       "    </tr>\n",
       "  </thead>\n",
       "  <tbody>\n",
       "    <tr>\n",
       "      <th>0</th>\n",
       "      <td>A1</td>\n",
       "      <td>1</td>\n",
       "      <td>341332.877000</td>\n",
       "    </tr>\n",
       "    <tr>\n",
       "      <th>1</th>\n",
       "      <td>A1</td>\n",
       "      <td>2</td>\n",
       "      <td>138421.151250</td>\n",
       "    </tr>\n",
       "    <tr>\n",
       "      <th>2</th>\n",
       "      <td>A1</td>\n",
       "      <td>4</td>\n",
       "      <td>261649.250000</td>\n",
       "    </tr>\n",
       "    <tr>\n",
       "      <th>3</th>\n",
       "      <td>A1</td>\n",
       "      <td>5</td>\n",
       "      <td>361141.310000</td>\n",
       "    </tr>\n",
       "    <tr>\n",
       "      <th>4</th>\n",
       "      <td>A1</td>\n",
       "      <td>8</td>\n",
       "      <td>344372.100000</td>\n",
       "    </tr>\n",
       "    <tr>\n",
       "      <th>5</th>\n",
       "      <td>A1</td>\n",
       "      <td>10</td>\n",
       "      <td>244534.680000</td>\n",
       "    </tr>\n",
       "    <tr>\n",
       "      <th>6</th>\n",
       "      <td>A1</td>\n",
       "      <td>11</td>\n",
       "      <td>183839.610000</td>\n",
       "    </tr>\n",
       "    <tr>\n",
       "      <th>7</th>\n",
       "      <td>A10</td>\n",
       "      <td>1</td>\n",
       "      <td>173828.282500</td>\n",
       "    </tr>\n",
       "    <tr>\n",
       "      <th>8</th>\n",
       "      <td>A10</td>\n",
       "      <td>2</td>\n",
       "      <td>170265.770000</td>\n",
       "    </tr>\n",
       "    <tr>\n",
       "      <th>9</th>\n",
       "      <td>A10</td>\n",
       "      <td>3</td>\n",
       "      <td>134631.266667</td>\n",
       "    </tr>\n",
       "    <tr>\n",
       "      <th>10</th>\n",
       "      <td>A10</td>\n",
       "      <td>4</td>\n",
       "      <td>270721.680000</td>\n",
       "    </tr>\n",
       "    <tr>\n",
       "      <th>11</th>\n",
       "      <td>A10</td>\n",
       "      <td>5</td>\n",
       "      <td>189207.392500</td>\n",
       "    </tr>\n",
       "    <tr>\n",
       "      <th>12</th>\n",
       "      <td>A10</td>\n",
       "      <td>7</td>\n",
       "      <td>239798.030000</td>\n",
       "    </tr>\n",
       "    <tr>\n",
       "      <th>13</th>\n",
       "      <td>A10</td>\n",
       "      <td>8</td>\n",
       "      <td>454827.230000</td>\n",
       "    </tr>\n",
       "    <tr>\n",
       "      <th>14</th>\n",
       "      <td>A10</td>\n",
       "      <td>11</td>\n",
       "      <td>459690.690000</td>\n",
       "    </tr>\n",
       "    <tr>\n",
       "      <th>15</th>\n",
       "      <td>A100</td>\n",
       "      <td>1</td>\n",
       "      <td>50000.000000</td>\n",
       "    </tr>\n",
       "    <tr>\n",
       "      <th>16</th>\n",
       "      <td>A11</td>\n",
       "      <td>1</td>\n",
       "      <td>145845.600000</td>\n",
       "    </tr>\n",
       "    <tr>\n",
       "      <th>17</th>\n",
       "      <td>A11</td>\n",
       "      <td>2</td>\n",
       "      <td>262142.565000</td>\n",
       "    </tr>\n",
       "    <tr>\n",
       "      <th>18</th>\n",
       "      <td>A11</td>\n",
       "      <td>3</td>\n",
       "      <td>177102.153333</td>\n",
       "    </tr>\n",
       "    <tr>\n",
       "      <th>19</th>\n",
       "      <td>A11</td>\n",
       "      <td>4</td>\n",
       "      <td>483603.210000</td>\n",
       "    </tr>\n",
       "  </tbody>\n",
       "</table>\n",
       "</div>"
      ],
      "text/plain": [
       "   Customer  Spend_Month         Amount\n",
       "0        A1            1  341332.877000\n",
       "1        A1            2  138421.151250\n",
       "2        A1            4  261649.250000\n",
       "3        A1            5  361141.310000\n",
       "4        A1            8  344372.100000\n",
       "5        A1           10  244534.680000\n",
       "6        A1           11  183839.610000\n",
       "7       A10            1  173828.282500\n",
       "8       A10            2  170265.770000\n",
       "9       A10            3  134631.266667\n",
       "10      A10            4  270721.680000\n",
       "11      A10            5  189207.392500\n",
       "12      A10            7  239798.030000\n",
       "13      A10            8  454827.230000\n",
       "14      A10           11  459690.690000\n",
       "15     A100            1   50000.000000\n",
       "16      A11            1  145845.600000\n",
       "17      A11            2  262142.565000\n",
       "18      A11            3  177102.153333\n",
       "19      A11            4  483603.210000"
      ]
     },
     "execution_count": 72,
     "metadata": {},
     "output_type": "execute_result"
    }
   ],
   "source": [
    "AvgMonthlySpend.head(20)"
   ]
  },
  {
   "cell_type": "raw",
   "metadata": {},
   "source": [
    "Hence, The average monthly spend by customers are shown by the above dataset."
   ]
  },
  {
   "cell_type": "markdown",
   "metadata": {},
   "source": [
    "####   d. What is the average monthly repayment by customers?"
   ]
  },
  {
   "cell_type": "code",
   "execution_count": 74,
   "metadata": {},
   "outputs": [],
   "source": [
    "Customer_Repayment_Amount=Customer_Repayment_Transaction.groupby(['Customer','Month'])[['Amount']].mean().reset_index()"
   ]
  },
  {
   "cell_type": "code",
   "execution_count": 75,
   "metadata": {},
   "outputs": [],
   "source": [
    "Customer_Repayment_Amount['Repayment_Month']=Customer_Repayment_Amount['Month'].apply(lambda x:x.month)"
   ]
  },
  {
   "cell_type": "code",
   "execution_count": 76,
   "metadata": {},
   "outputs": [],
   "source": [
    "AvgMonthlyRepayment=Customer_Repayment_Amount.groupby(['Customer','Repayment_Month'])[['Amount']].mean().reset_index()"
   ]
  },
  {
   "cell_type": "code",
   "execution_count": 78,
   "metadata": {},
   "outputs": [
    {
     "data": {
      "text/html": [
       "<div>\n",
       "<style scoped>\n",
       "    .dataframe tbody tr th:only-of-type {\n",
       "        vertical-align: middle;\n",
       "    }\n",
       "\n",
       "    .dataframe tbody tr th {\n",
       "        vertical-align: top;\n",
       "    }\n",
       "\n",
       "    .dataframe thead th {\n",
       "        text-align: right;\n",
       "    }\n",
       "</style>\n",
       "<table border=\"1\" class=\"dataframe\">\n",
       "  <thead>\n",
       "    <tr style=\"text-align: right;\">\n",
       "      <th></th>\n",
       "      <th>Customer</th>\n",
       "      <th>Repayment_Month</th>\n",
       "      <th>Amount</th>\n",
       "    </tr>\n",
       "  </thead>\n",
       "  <tbody>\n",
       "    <tr>\n",
       "      <th>0</th>\n",
       "      <td>A1</td>\n",
       "      <td>1</td>\n",
       "      <td>325723.331000</td>\n",
       "    </tr>\n",
       "    <tr>\n",
       "      <th>1</th>\n",
       "      <td>A1</td>\n",
       "      <td>2</td>\n",
       "      <td>137713.785000</td>\n",
       "    </tr>\n",
       "    <tr>\n",
       "      <th>2</th>\n",
       "      <td>A1</td>\n",
       "      <td>4</td>\n",
       "      <td>254474.580000</td>\n",
       "    </tr>\n",
       "    <tr>\n",
       "      <th>3</th>\n",
       "      <td>A1</td>\n",
       "      <td>7</td>\n",
       "      <td>297176.740000</td>\n",
       "    </tr>\n",
       "    <tr>\n",
       "      <th>4</th>\n",
       "      <td>A1</td>\n",
       "      <td>9</td>\n",
       "      <td>186427.500000</td>\n",
       "    </tr>\n",
       "    <tr>\n",
       "      <th>5</th>\n",
       "      <td>A1</td>\n",
       "      <td>11</td>\n",
       "      <td>285729.090000</td>\n",
       "    </tr>\n",
       "    <tr>\n",
       "      <th>6</th>\n",
       "      <td>A10</td>\n",
       "      <td>1</td>\n",
       "      <td>283324.721667</td>\n",
       "    </tr>\n",
       "    <tr>\n",
       "      <th>7</th>\n",
       "      <td>A10</td>\n",
       "      <td>2</td>\n",
       "      <td>217344.503333</td>\n",
       "    </tr>\n",
       "    <tr>\n",
       "      <th>8</th>\n",
       "      <td>A10</td>\n",
       "      <td>3</td>\n",
       "      <td>240130.543333</td>\n",
       "    </tr>\n",
       "    <tr>\n",
       "      <th>9</th>\n",
       "      <td>A10</td>\n",
       "      <td>4</td>\n",
       "      <td>120467.322500</td>\n",
       "    </tr>\n",
       "    <tr>\n",
       "      <th>10</th>\n",
       "      <td>A10</td>\n",
       "      <td>5</td>\n",
       "      <td>98672.695000</td>\n",
       "    </tr>\n",
       "    <tr>\n",
       "      <th>11</th>\n",
       "      <td>A10</td>\n",
       "      <td>7</td>\n",
       "      <td>358194.650000</td>\n",
       "    </tr>\n",
       "    <tr>\n",
       "      <th>12</th>\n",
       "      <td>A100</td>\n",
       "      <td>1</td>\n",
       "      <td>69551.190000</td>\n",
       "    </tr>\n",
       "    <tr>\n",
       "      <th>13</th>\n",
       "      <td>A11</td>\n",
       "      <td>1</td>\n",
       "      <td>354257.830000</td>\n",
       "    </tr>\n",
       "    <tr>\n",
       "      <th>14</th>\n",
       "      <td>A11</td>\n",
       "      <td>2</td>\n",
       "      <td>248148.406667</td>\n",
       "    </tr>\n",
       "    <tr>\n",
       "      <th>15</th>\n",
       "      <td>A11</td>\n",
       "      <td>3</td>\n",
       "      <td>254319.010000</td>\n",
       "    </tr>\n",
       "    <tr>\n",
       "      <th>16</th>\n",
       "      <td>A11</td>\n",
       "      <td>4</td>\n",
       "      <td>319488.693333</td>\n",
       "    </tr>\n",
       "    <tr>\n",
       "      <th>17</th>\n",
       "      <td>A11</td>\n",
       "      <td>5</td>\n",
       "      <td>338580.575000</td>\n",
       "    </tr>\n",
       "    <tr>\n",
       "      <th>18</th>\n",
       "      <td>A11</td>\n",
       "      <td>7</td>\n",
       "      <td>128484.370000</td>\n",
       "    </tr>\n",
       "    <tr>\n",
       "      <th>19</th>\n",
       "      <td>A11</td>\n",
       "      <td>8</td>\n",
       "      <td>332677.610000</td>\n",
       "    </tr>\n",
       "  </tbody>\n",
       "</table>\n",
       "</div>"
      ],
      "text/plain": [
       "   Customer  Repayment_Month         Amount\n",
       "0        A1                1  325723.331000\n",
       "1        A1                2  137713.785000\n",
       "2        A1                4  254474.580000\n",
       "3        A1                7  297176.740000\n",
       "4        A1                9  186427.500000\n",
       "5        A1               11  285729.090000\n",
       "6       A10                1  283324.721667\n",
       "7       A10                2  217344.503333\n",
       "8       A10                3  240130.543333\n",
       "9       A10                4  120467.322500\n",
       "10      A10                5   98672.695000\n",
       "11      A10                7  358194.650000\n",
       "12     A100                1   69551.190000\n",
       "13      A11                1  354257.830000\n",
       "14      A11                2  248148.406667\n",
       "15      A11                3  254319.010000\n",
       "16      A11                4  319488.693333\n",
       "17      A11                5  338580.575000\n",
       "18      A11                7  128484.370000\n",
       "19      A11                8  332677.610000"
      ]
     },
     "execution_count": 78,
     "metadata": {},
     "output_type": "execute_result"
    }
   ],
   "source": [
    "AvgMonthlyRepayment.head(20)"
   ]
  },
  {
   "cell_type": "raw",
   "metadata": {},
   "source": [
    "Hence, The average monthly repayment by customers are shown by the above dataset."
   ]
  },
  {
   "cell_type": "markdown",
   "metadata": {},
   "source": [
    "####   e. If the monthly rate of interest is 2.9%, what is the profit for the bank for each month? (Profit is defined as interest earned on Monthly Profit. Monthly Profit = Monthly repayment – Monthly spend. Interest is earned only on positive profits and not on negative amounts)"
   ]
  },
  {
   "cell_type": "code",
   "execution_count": 110,
   "metadata": {},
   "outputs": [],
   "source": [
    "AvgMonthlyCustomers=pd.merge(left=AvgMonthlySpend,right=AvgMonthlyRepayment,left_on=['Customer','Spend_Month'],right_on=['Customer','Repayment_Month'])"
   ]
  },
  {
   "cell_type": "code",
   "execution_count": 112,
   "metadata": {},
   "outputs": [],
   "source": [
    "AvgMonthlyCustomers['Monthly_Profit']=AvgMonthlyCustomers.Amount_y-AvgMonthlyCustomers.Amount_x"
   ]
  },
  {
   "cell_type": "code",
   "execution_count": 113,
   "metadata": {},
   "outputs": [],
   "source": [
    "AvgMonthlyCustomers['Profit']=np.where(AvgMonthlyCustomers['Monthly_Profit']>0,AvgMonthlyCustomers['Monthly_Profit']*2.9/100,np.nan)"
   ]
  },
  {
   "cell_type": "code",
   "execution_count": 115,
   "metadata": {},
   "outputs": [
    {
     "data": {
      "text/html": [
       "<div>\n",
       "<style scoped>\n",
       "    .dataframe tbody tr th:only-of-type {\n",
       "        vertical-align: middle;\n",
       "    }\n",
       "\n",
       "    .dataframe tbody tr th {\n",
       "        vertical-align: top;\n",
       "    }\n",
       "\n",
       "    .dataframe thead th {\n",
       "        text-align: right;\n",
       "    }\n",
       "</style>\n",
       "<table border=\"1\" class=\"dataframe\">\n",
       "  <thead>\n",
       "    <tr style=\"text-align: right;\">\n",
       "      <th></th>\n",
       "      <th>Customer</th>\n",
       "      <th>Spend_Month</th>\n",
       "      <th>Amount_x</th>\n",
       "      <th>Repayment_Month</th>\n",
       "      <th>Amount_y</th>\n",
       "      <th>Monthly_Profit</th>\n",
       "      <th>Profit</th>\n",
       "    </tr>\n",
       "  </thead>\n",
       "  <tbody>\n",
       "    <tr>\n",
       "      <th>0</th>\n",
       "      <td>A1</td>\n",
       "      <td>1</td>\n",
       "      <td>341332.877000</td>\n",
       "      <td>1</td>\n",
       "      <td>325723.331000</td>\n",
       "      <td>-15609.546000</td>\n",
       "      <td>NaN</td>\n",
       "    </tr>\n",
       "    <tr>\n",
       "      <th>1</th>\n",
       "      <td>A1</td>\n",
       "      <td>2</td>\n",
       "      <td>138421.151250</td>\n",
       "      <td>2</td>\n",
       "      <td>137713.785000</td>\n",
       "      <td>-707.366250</td>\n",
       "      <td>NaN</td>\n",
       "    </tr>\n",
       "    <tr>\n",
       "      <th>2</th>\n",
       "      <td>A1</td>\n",
       "      <td>4</td>\n",
       "      <td>261649.250000</td>\n",
       "      <td>4</td>\n",
       "      <td>254474.580000</td>\n",
       "      <td>-7174.670000</td>\n",
       "      <td>NaN</td>\n",
       "    </tr>\n",
       "    <tr>\n",
       "      <th>3</th>\n",
       "      <td>A1</td>\n",
       "      <td>11</td>\n",
       "      <td>183839.610000</td>\n",
       "      <td>11</td>\n",
       "      <td>285729.090000</td>\n",
       "      <td>101889.480000</td>\n",
       "      <td>2954.794920</td>\n",
       "    </tr>\n",
       "    <tr>\n",
       "      <th>4</th>\n",
       "      <td>A10</td>\n",
       "      <td>1</td>\n",
       "      <td>173828.282500</td>\n",
       "      <td>1</td>\n",
       "      <td>283324.721667</td>\n",
       "      <td>109496.439167</td>\n",
       "      <td>3175.396736</td>\n",
       "    </tr>\n",
       "    <tr>\n",
       "      <th>5</th>\n",
       "      <td>A10</td>\n",
       "      <td>2</td>\n",
       "      <td>170265.770000</td>\n",
       "      <td>2</td>\n",
       "      <td>217344.503333</td>\n",
       "      <td>47078.733333</td>\n",
       "      <td>1365.283267</td>\n",
       "    </tr>\n",
       "    <tr>\n",
       "      <th>6</th>\n",
       "      <td>A10</td>\n",
       "      <td>3</td>\n",
       "      <td>134631.266667</td>\n",
       "      <td>3</td>\n",
       "      <td>240130.543333</td>\n",
       "      <td>105499.276667</td>\n",
       "      <td>3059.479023</td>\n",
       "    </tr>\n",
       "    <tr>\n",
       "      <th>7</th>\n",
       "      <td>A10</td>\n",
       "      <td>4</td>\n",
       "      <td>270721.680000</td>\n",
       "      <td>4</td>\n",
       "      <td>120467.322500</td>\n",
       "      <td>-150254.357500</td>\n",
       "      <td>NaN</td>\n",
       "    </tr>\n",
       "    <tr>\n",
       "      <th>8</th>\n",
       "      <td>A10</td>\n",
       "      <td>5</td>\n",
       "      <td>189207.392500</td>\n",
       "      <td>5</td>\n",
       "      <td>98672.695000</td>\n",
       "      <td>-90534.697500</td>\n",
       "      <td>NaN</td>\n",
       "    </tr>\n",
       "    <tr>\n",
       "      <th>9</th>\n",
       "      <td>A10</td>\n",
       "      <td>7</td>\n",
       "      <td>239798.030000</td>\n",
       "      <td>7</td>\n",
       "      <td>358194.650000</td>\n",
       "      <td>118396.620000</td>\n",
       "      <td>3433.501980</td>\n",
       "    </tr>\n",
       "    <tr>\n",
       "      <th>10</th>\n",
       "      <td>A100</td>\n",
       "      <td>1</td>\n",
       "      <td>50000.000000</td>\n",
       "      <td>1</td>\n",
       "      <td>69551.190000</td>\n",
       "      <td>19551.190000</td>\n",
       "      <td>566.984510</td>\n",
       "    </tr>\n",
       "    <tr>\n",
       "      <th>11</th>\n",
       "      <td>A11</td>\n",
       "      <td>1</td>\n",
       "      <td>145845.600000</td>\n",
       "      <td>1</td>\n",
       "      <td>354257.830000</td>\n",
       "      <td>208412.230000</td>\n",
       "      <td>6043.954670</td>\n",
       "    </tr>\n",
       "    <tr>\n",
       "      <th>12</th>\n",
       "      <td>A11</td>\n",
       "      <td>2</td>\n",
       "      <td>262142.565000</td>\n",
       "      <td>2</td>\n",
       "      <td>248148.406667</td>\n",
       "      <td>-13994.158333</td>\n",
       "      <td>NaN</td>\n",
       "    </tr>\n",
       "    <tr>\n",
       "      <th>13</th>\n",
       "      <td>A11</td>\n",
       "      <td>3</td>\n",
       "      <td>177102.153333</td>\n",
       "      <td>3</td>\n",
       "      <td>254319.010000</td>\n",
       "      <td>77216.856667</td>\n",
       "      <td>2239.288843</td>\n",
       "    </tr>\n",
       "    <tr>\n",
       "      <th>14</th>\n",
       "      <td>A11</td>\n",
       "      <td>4</td>\n",
       "      <td>483603.210000</td>\n",
       "      <td>4</td>\n",
       "      <td>319488.693333</td>\n",
       "      <td>-164114.516667</td>\n",
       "      <td>NaN</td>\n",
       "    </tr>\n",
       "    <tr>\n",
       "      <th>15</th>\n",
       "      <td>A11</td>\n",
       "      <td>5</td>\n",
       "      <td>323982.030000</td>\n",
       "      <td>5</td>\n",
       "      <td>338580.575000</td>\n",
       "      <td>14598.545000</td>\n",
       "      <td>423.357805</td>\n",
       "    </tr>\n",
       "    <tr>\n",
       "      <th>16</th>\n",
       "      <td>A11</td>\n",
       "      <td>8</td>\n",
       "      <td>404113.850000</td>\n",
       "      <td>8</td>\n",
       "      <td>332677.610000</td>\n",
       "      <td>-71436.240000</td>\n",
       "      <td>NaN</td>\n",
       "    </tr>\n",
       "    <tr>\n",
       "      <th>17</th>\n",
       "      <td>A12</td>\n",
       "      <td>1</td>\n",
       "      <td>343885.410000</td>\n",
       "      <td>1</td>\n",
       "      <td>163723.511667</td>\n",
       "      <td>-180161.898333</td>\n",
       "      <td>NaN</td>\n",
       "    </tr>\n",
       "    <tr>\n",
       "      <th>18</th>\n",
       "      <td>A12</td>\n",
       "      <td>2</td>\n",
       "      <td>177805.415000</td>\n",
       "      <td>2</td>\n",
       "      <td>374689.108000</td>\n",
       "      <td>196883.693000</td>\n",
       "      <td>5709.627097</td>\n",
       "    </tr>\n",
       "    <tr>\n",
       "      <th>19</th>\n",
       "      <td>A12</td>\n",
       "      <td>3</td>\n",
       "      <td>210351.497500</td>\n",
       "      <td>3</td>\n",
       "      <td>250283.542500</td>\n",
       "      <td>39932.045000</td>\n",
       "      <td>1158.029305</td>\n",
       "    </tr>\n",
       "  </tbody>\n",
       "</table>\n",
       "</div>"
      ],
      "text/plain": [
       "   Customer  Spend_Month       Amount_x  Repayment_Month       Amount_y  \\\n",
       "0        A1            1  341332.877000                1  325723.331000   \n",
       "1        A1            2  138421.151250                2  137713.785000   \n",
       "2        A1            4  261649.250000                4  254474.580000   \n",
       "3        A1           11  183839.610000               11  285729.090000   \n",
       "4       A10            1  173828.282500                1  283324.721667   \n",
       "5       A10            2  170265.770000                2  217344.503333   \n",
       "6       A10            3  134631.266667                3  240130.543333   \n",
       "7       A10            4  270721.680000                4  120467.322500   \n",
       "8       A10            5  189207.392500                5   98672.695000   \n",
       "9       A10            7  239798.030000                7  358194.650000   \n",
       "10     A100            1   50000.000000                1   69551.190000   \n",
       "11      A11            1  145845.600000                1  354257.830000   \n",
       "12      A11            2  262142.565000                2  248148.406667   \n",
       "13      A11            3  177102.153333                3  254319.010000   \n",
       "14      A11            4  483603.210000                4  319488.693333   \n",
       "15      A11            5  323982.030000                5  338580.575000   \n",
       "16      A11            8  404113.850000                8  332677.610000   \n",
       "17      A12            1  343885.410000                1  163723.511667   \n",
       "18      A12            2  177805.415000                2  374689.108000   \n",
       "19      A12            3  210351.497500                3  250283.542500   \n",
       "\n",
       "    Monthly_Profit       Profit  \n",
       "0    -15609.546000          NaN  \n",
       "1      -707.366250          NaN  \n",
       "2     -7174.670000          NaN  \n",
       "3    101889.480000  2954.794920  \n",
       "4    109496.439167  3175.396736  \n",
       "5     47078.733333  1365.283267  \n",
       "6    105499.276667  3059.479023  \n",
       "7   -150254.357500          NaN  \n",
       "8    -90534.697500          NaN  \n",
       "9    118396.620000  3433.501980  \n",
       "10    19551.190000   566.984510  \n",
       "11   208412.230000  6043.954670  \n",
       "12   -13994.158333          NaN  \n",
       "13    77216.856667  2239.288843  \n",
       "14  -164114.516667          NaN  \n",
       "15    14598.545000   423.357805  \n",
       "16   -71436.240000          NaN  \n",
       "17  -180161.898333          NaN  \n",
       "18   196883.693000  5709.627097  \n",
       "19    39932.045000  1158.029305  "
      ]
     },
     "execution_count": 115,
     "metadata": {},
     "output_type": "execute_result"
    }
   ],
   "source": [
    "AvgMonthlyCustomers.head(20)"
   ]
  },
  {
   "cell_type": "markdown",
   "metadata": {},
   "source": [
    "####  f. What are the top 5 product types?"
   ]
  },
  {
   "cell_type": "code",
   "execution_count": 143,
   "metadata": {},
   "outputs": [
    {
     "data": {
      "text/html": [
       "<div>\n",
       "<style scoped>\n",
       "    .dataframe tbody tr th:only-of-type {\n",
       "        vertical-align: middle;\n",
       "    }\n",
       "\n",
       "    .dataframe tbody tr th {\n",
       "        vertical-align: top;\n",
       "    }\n",
       "\n",
       "    .dataframe thead th {\n",
       "        text-align: right;\n",
       "    }\n",
       "</style>\n",
       "<table border=\"1\" class=\"dataframe\">\n",
       "  <thead>\n",
       "    <tr style=\"text-align: right;\">\n",
       "      <th></th>\n",
       "      <th>Type</th>\n",
       "      <th>Amount</th>\n",
       "    </tr>\n",
       "  </thead>\n",
       "  <tbody>\n",
       "    <tr>\n",
       "      <th>10</th>\n",
       "      <td>PETRO</td>\n",
       "      <td>28597384.98</td>\n",
       "    </tr>\n",
       "    <tr>\n",
       "      <th>4</th>\n",
       "      <td>CAMERA</td>\n",
       "      <td>27690738.44</td>\n",
       "    </tr>\n",
       "    <tr>\n",
       "      <th>7</th>\n",
       "      <td>FOOD</td>\n",
       "      <td>20519243.60</td>\n",
       "    </tr>\n",
       "    <tr>\n",
       "      <th>0</th>\n",
       "      <td>AIR TICKET</td>\n",
       "      <td>20155847.12</td>\n",
       "    </tr>\n",
       "    <tr>\n",
       "      <th>14</th>\n",
       "      <td>TRAIN TICKET</td>\n",
       "      <td>19995825.72</td>\n",
       "    </tr>\n",
       "    <tr>\n",
       "      <th>13</th>\n",
       "      <td>SHOPPING</td>\n",
       "      <td>17106660.97</td>\n",
       "    </tr>\n",
       "    <tr>\n",
       "      <th>3</th>\n",
       "      <td>BUS TICKET</td>\n",
       "      <td>16279935.35</td>\n",
       "    </tr>\n",
       "    <tr>\n",
       "      <th>9</th>\n",
       "      <td>MOVIE TICKET</td>\n",
       "      <td>13001899.29</td>\n",
       "    </tr>\n",
       "    <tr>\n",
       "      <th>6</th>\n",
       "      <td>CLOTHES</td>\n",
       "      <td>12302511.36</td>\n",
       "    </tr>\n",
       "    <tr>\n",
       "      <th>11</th>\n",
       "      <td>RENTAL</td>\n",
       "      <td>11850628.72</td>\n",
       "    </tr>\n",
       "    <tr>\n",
       "      <th>8</th>\n",
       "      <td>JEWELLERY</td>\n",
       "      <td>11507786.00</td>\n",
       "    </tr>\n",
       "    <tr>\n",
       "      <th>2</th>\n",
       "      <td>BIKE</td>\n",
       "      <td>7009789.53</td>\n",
       "    </tr>\n",
       "    <tr>\n",
       "      <th>5</th>\n",
       "      <td>CAR</td>\n",
       "      <td>5107867.45</td>\n",
       "    </tr>\n",
       "    <tr>\n",
       "      <th>1</th>\n",
       "      <td>AUTO</td>\n",
       "      <td>4806060.41</td>\n",
       "    </tr>\n",
       "    <tr>\n",
       "      <th>12</th>\n",
       "      <td>SANDALS</td>\n",
       "      <td>3848906.29</td>\n",
       "    </tr>\n",
       "  </tbody>\n",
       "</table>\n",
       "</div>"
      ],
      "text/plain": [
       "            Type       Amount\n",
       "10         PETRO  28597384.98\n",
       "4         CAMERA  27690738.44\n",
       "7           FOOD  20519243.60\n",
       "0     AIR TICKET  20155847.12\n",
       "14  TRAIN TICKET  19995825.72\n",
       "13      SHOPPING  17106660.97\n",
       "3     BUS TICKET  16279935.35\n",
       "9   MOVIE TICKET  13001899.29\n",
       "6        CLOTHES  12302511.36\n",
       "11        RENTAL  11850628.72\n",
       "8      JEWELLERY  11507786.00\n",
       "2           BIKE   7009789.53\n",
       "5            CAR   5107867.45\n",
       "1           AUTO   4806060.41\n",
       "12       SANDALS   3848906.29"
      ]
     },
     "execution_count": 143,
     "metadata": {},
     "output_type": "execute_result"
    }
   ],
   "source": [
    "Customer_Spend_Transaction.groupby('Type').Amount.sum().reset_index().sort_values('Amount',ascending=False)"
   ]
  },
  {
   "cell_type": "raw",
   "metadata": {},
   "source": [
    "Hence, The Top 5 Product Types are PETRO, CAMERA, FOOD, AIR TICKET, TRAIN TICKET according to Spend Amount."
   ]
  },
  {
   "cell_type": "markdown",
   "metadata": {},
   "source": [
    "####   g. Which city is having maximum spend?"
   ]
  },
  {
   "cell_type": "code",
   "execution_count": 144,
   "metadata": {},
   "outputs": [
    {
     "data": {
      "text/html": [
       "<div>\n",
       "<style scoped>\n",
       "    .dataframe tbody tr th:only-of-type {\n",
       "        vertical-align: middle;\n",
       "    }\n",
       "\n",
       "    .dataframe tbody tr th {\n",
       "        vertical-align: top;\n",
       "    }\n",
       "\n",
       "    .dataframe thead th {\n",
       "        text-align: right;\n",
       "    }\n",
       "</style>\n",
       "<table border=\"1\" class=\"dataframe\">\n",
       "  <thead>\n",
       "    <tr style=\"text-align: right;\">\n",
       "      <th></th>\n",
       "      <th>City</th>\n",
       "      <th>Amount</th>\n",
       "    </tr>\n",
       "  </thead>\n",
       "  <tbody>\n",
       "    <tr>\n",
       "      <th>4</th>\n",
       "      <td>COCHIN</td>\n",
       "      <td>45963513.50</td>\n",
       "    </tr>\n",
       "    <tr>\n",
       "      <th>2</th>\n",
       "      <td>CALCUTTA</td>\n",
       "      <td>41108132.30</td>\n",
       "    </tr>\n",
       "    <tr>\n",
       "      <th>0</th>\n",
       "      <td>BANGALORE</td>\n",
       "      <td>40461647.02</td>\n",
       "    </tr>\n",
       "    <tr>\n",
       "      <th>1</th>\n",
       "      <td>BOMBAY</td>\n",
       "      <td>28603127.38</td>\n",
       "    </tr>\n",
       "    <tr>\n",
       "      <th>3</th>\n",
       "      <td>CHENNAI</td>\n",
       "      <td>22128635.65</td>\n",
       "    </tr>\n",
       "    <tr>\n",
       "      <th>7</th>\n",
       "      <td>TRIVANDRUM</td>\n",
       "      <td>15337155.87</td>\n",
       "    </tr>\n",
       "    <tr>\n",
       "      <th>6</th>\n",
       "      <td>PATNA</td>\n",
       "      <td>15260586.97</td>\n",
       "    </tr>\n",
       "    <tr>\n",
       "      <th>5</th>\n",
       "      <td>DELHI</td>\n",
       "      <td>10918286.54</td>\n",
       "    </tr>\n",
       "  </tbody>\n",
       "</table>\n",
       "</div>"
      ],
      "text/plain": [
       "         City       Amount\n",
       "4      COCHIN  45963513.50\n",
       "2    CALCUTTA  41108132.30\n",
       "0   BANGALORE  40461647.02\n",
       "1      BOMBAY  28603127.38\n",
       "3     CHENNAI  22128635.65\n",
       "7  TRIVANDRUM  15337155.87\n",
       "6       PATNA  15260586.97\n",
       "5       DELHI  10918286.54"
      ]
     },
     "execution_count": 144,
     "metadata": {},
     "output_type": "execute_result"
    }
   ],
   "source": [
    "Customer_Spend_Transaction.groupby('City').Amount.sum().reset_index().sort_values('Amount',ascending=False)"
   ]
  },
  {
   "cell_type": "raw",
   "metadata": {},
   "source": [
    "Hence, \"COCHIN\" is having maximum spend."
   ]
  },
  {
   "cell_type": "markdown",
   "metadata": {},
   "source": [
    "####  h. Which age group is spending more money? "
   ]
  },
  {
   "cell_type": "code",
   "execution_count": 140,
   "metadata": {},
   "outputs": [],
   "source": [
    "Customer_Spend_Transaction['Age_Group']=np.where(((Customer_Spend_Transaction.Age.astype(int) >= 18) & (Customer_Spend_Transaction.Age.astype(int) < 25)), 'Youth',np.where(((Customer_Spend_Transaction.Age.astype(int) >= 25) & (Customer_Spend_Transaction.Age.astype(int) < 65)), 'Adult','Senior'))"
   ]
  },
  {
   "cell_type": "code",
   "execution_count": 145,
   "metadata": {},
   "outputs": [
    {
     "data": {
      "text/plain": [
       "Age_Group\n",
       "Adult     1.674181e+08\n",
       "Senior    3.768249e+07\n",
       "Youth     1.468050e+07\n",
       "Name: Amount, dtype: float64"
      ]
     },
     "execution_count": 145,
     "metadata": {},
     "output_type": "execute_result"
    }
   ],
   "source": [
    "Customer_Spend_Transaction.groupby('Age_Group').Amount.sum()"
   ]
  },
  {
   "cell_type": "raw",
   "metadata": {},
   "source": [
    "Hence, Age Group \"Senior\"(65 or more) is spending more money."
   ]
  },
  {
   "cell_type": "markdown",
   "metadata": {},
   "source": [
    "#### i. Who are the top 10 customers in terms of repayment?"
   ]
  },
  {
   "cell_type": "code",
   "execution_count": 149,
   "metadata": {},
   "outputs": [
    {
     "data": {
      "text/html": [
       "<div>\n",
       "<style scoped>\n",
       "    .dataframe tbody tr th:only-of-type {\n",
       "        vertical-align: middle;\n",
       "    }\n",
       "\n",
       "    .dataframe tbody tr th {\n",
       "        vertical-align: top;\n",
       "    }\n",
       "\n",
       "    .dataframe thead th {\n",
       "        text-align: right;\n",
       "    }\n",
       "</style>\n",
       "<table border=\"1\" class=\"dataframe\">\n",
       "  <thead>\n",
       "    <tr style=\"text-align: right;\">\n",
       "      <th></th>\n",
       "      <th>Customer</th>\n",
       "      <th>Amount</th>\n",
       "    </tr>\n",
       "  </thead>\n",
       "  <tbody>\n",
       "    <tr>\n",
       "      <th>58</th>\n",
       "      <td>A61</td>\n",
       "      <td>10539142.91</td>\n",
       "    </tr>\n",
       "    <tr>\n",
       "      <th>57</th>\n",
       "      <td>A60</td>\n",
       "      <td>9876290.74</td>\n",
       "    </tr>\n",
       "    <tr>\n",
       "      <th>5</th>\n",
       "      <td>A13</td>\n",
       "      <td>9572000.66</td>\n",
       "    </tr>\n",
       "    <tr>\n",
       "      <th>38</th>\n",
       "      <td>A43</td>\n",
       "      <td>8489871.46</td>\n",
       "    </tr>\n",
       "    <tr>\n",
       "      <th>40</th>\n",
       "      <td>A45</td>\n",
       "      <td>8448334.87</td>\n",
       "    </tr>\n",
       "    <tr>\n",
       "      <th>4</th>\n",
       "      <td>A12</td>\n",
       "      <td>8334760.16</td>\n",
       "    </tr>\n",
       "    <tr>\n",
       "      <th>6</th>\n",
       "      <td>A14</td>\n",
       "      <td>7943268.63</td>\n",
       "    </tr>\n",
       "    <tr>\n",
       "      <th>39</th>\n",
       "      <td>A44</td>\n",
       "      <td>7744730.12</td>\n",
       "    </tr>\n",
       "    <tr>\n",
       "      <th>33</th>\n",
       "      <td>A39</td>\n",
       "      <td>7622483.30</td>\n",
       "    </tr>\n",
       "    <tr>\n",
       "      <th>37</th>\n",
       "      <td>A42</td>\n",
       "      <td>7615460.86</td>\n",
       "    </tr>\n",
       "  </tbody>\n",
       "</table>\n",
       "</div>"
      ],
      "text/plain": [
       "   Customer       Amount\n",
       "58      A61  10539142.91\n",
       "57      A60   9876290.74\n",
       "5       A13   9572000.66\n",
       "38      A43   8489871.46\n",
       "40      A45   8448334.87\n",
       "4       A12   8334760.16\n",
       "6       A14   7943268.63\n",
       "39      A44   7744730.12\n",
       "33      A39   7622483.30\n",
       "37      A42   7615460.86"
      ]
     },
     "execution_count": 149,
     "metadata": {},
     "output_type": "execute_result"
    }
   ],
   "source": [
    "Customer_Repayment_Transaction.groupby('Customer').Amount.sum().reset_index().sort_values('Amount',ascending=False).head(10)"
   ]
  },
  {
   "cell_type": "markdown",
   "metadata": {},
   "source": [
    "### 3. Calculate the city wise spend on each product on yearly basis. Also include a graphical representation for the same."
   ]
  },
  {
   "cell_type": "code",
   "execution_count": 151,
   "metadata": {},
   "outputs": [],
   "source": [
    "Customer_Spend_Transaction['Yearly_Spend']=Customer_Spend_Transaction['Month'].apply(lambda x:x.year)"
   ]
  },
  {
   "cell_type": "code",
   "execution_count": 168,
   "metadata": {},
   "outputs": [],
   "source": [
    "City_Wise_Data = pd.pivot_table(data = Customer_Spend_Transaction, index = 'City', columns=['Product','Yearly_Spend'], \n",
    "               values='Amount', aggfunc='sum')"
   ]
  },
  {
   "cell_type": "code",
   "execution_count": 174,
   "metadata": {},
   "outputs": [
    {
     "data": {
      "text/html": [
       "<div>\n",
       "<style scoped>\n",
       "    .dataframe tbody tr th:only-of-type {\n",
       "        vertical-align: middle;\n",
       "    }\n",
       "\n",
       "    .dataframe tbody tr th {\n",
       "        vertical-align: top;\n",
       "    }\n",
       "\n",
       "    .dataframe thead tr th {\n",
       "        text-align: left;\n",
       "    }\n",
       "\n",
       "    .dataframe thead tr:last-of-type th {\n",
       "        text-align: right;\n",
       "    }\n",
       "</style>\n",
       "<table border=\"1\" class=\"dataframe\">\n",
       "  <thead>\n",
       "    <tr>\n",
       "      <th>Product</th>\n",
       "      <th colspan=\"3\" halign=\"left\">Gold</th>\n",
       "      <th colspan=\"3\" halign=\"left\">Platimum</th>\n",
       "      <th colspan=\"3\" halign=\"left\">Silver</th>\n",
       "    </tr>\n",
       "    <tr>\n",
       "      <th>Yearly_Spend</th>\n",
       "      <th>2004</th>\n",
       "      <th>2005</th>\n",
       "      <th>2006</th>\n",
       "      <th>2004</th>\n",
       "      <th>2005</th>\n",
       "      <th>2006</th>\n",
       "      <th>2004</th>\n",
       "      <th>2005</th>\n",
       "      <th>2006</th>\n",
       "    </tr>\n",
       "    <tr>\n",
       "      <th>City</th>\n",
       "      <th></th>\n",
       "      <th></th>\n",
       "      <th></th>\n",
       "      <th></th>\n",
       "      <th></th>\n",
       "      <th></th>\n",
       "      <th></th>\n",
       "      <th></th>\n",
       "      <th></th>\n",
       "    </tr>\n",
       "  </thead>\n",
       "  <tbody>\n",
       "    <tr>\n",
       "      <th>BANGALORE</th>\n",
       "      <td>9289878.54</td>\n",
       "      <td>12892362.99</td>\n",
       "      <td>12030611.09</td>\n",
       "      <td>1112732.30</td>\n",
       "      <td>912284.97</td>\n",
       "      <td>685831.27</td>\n",
       "      <td>1291852.58</td>\n",
       "      <td>830612.34</td>\n",
       "      <td>1415480.94</td>\n",
       "    </tr>\n",
       "    <tr>\n",
       "      <th>BOMBAY</th>\n",
       "      <td>6987853.53</td>\n",
       "      <td>8983018.28</td>\n",
       "      <td>7917144.31</td>\n",
       "      <td>897264.94</td>\n",
       "      <td>711804.94</td>\n",
       "      <td>972130.01</td>\n",
       "      <td>532089.03</td>\n",
       "      <td>508988.54</td>\n",
       "      <td>1092833.80</td>\n",
       "    </tr>\n",
       "    <tr>\n",
       "      <th>CALCUTTA</th>\n",
       "      <td>7477140.98</td>\n",
       "      <td>10303355.80</td>\n",
       "      <td>11167532.77</td>\n",
       "      <td>2037690.30</td>\n",
       "      <td>4434696.31</td>\n",
       "      <td>3589606.66</td>\n",
       "      <td>500006.00</td>\n",
       "      <td>440147.06</td>\n",
       "      <td>1157956.42</td>\n",
       "    </tr>\n",
       "    <tr>\n",
       "      <th>CHENNAI</th>\n",
       "      <td>1059618.50</td>\n",
       "      <td>3740945.58</td>\n",
       "      <td>2704288.62</td>\n",
       "      <td>3535652.38</td>\n",
       "      <td>5053956.32</td>\n",
       "      <td>5024923.40</td>\n",
       "      <td>282056.86</td>\n",
       "      <td>377184.49</td>\n",
       "      <td>350009.50</td>\n",
       "    </tr>\n",
       "    <tr>\n",
       "      <th>COCHIN</th>\n",
       "      <td>7315850.15</td>\n",
       "      <td>12110613.03</td>\n",
       "      <td>10499142.38</td>\n",
       "      <td>3419904.07</td>\n",
       "      <td>4960921.71</td>\n",
       "      <td>4920592.29</td>\n",
       "      <td>814229.62</td>\n",
       "      <td>652269.38</td>\n",
       "      <td>1269990.87</td>\n",
       "    </tr>\n",
       "    <tr>\n",
       "      <th>DELHI</th>\n",
       "      <td>2806495.00</td>\n",
       "      <td>1964845.27</td>\n",
       "      <td>2957103.32</td>\n",
       "      <td>283512.89</td>\n",
       "      <td>494157.86</td>\n",
       "      <td>176788.72</td>\n",
       "      <td>768172.30</td>\n",
       "      <td>612311.21</td>\n",
       "      <td>854899.97</td>\n",
       "    </tr>\n",
       "    <tr>\n",
       "      <th>PATNA</th>\n",
       "      <td>2072567.90</td>\n",
       "      <td>3252615.77</td>\n",
       "      <td>2276181.69</td>\n",
       "      <td>1113069.60</td>\n",
       "      <td>2883231.07</td>\n",
       "      <td>1256137.65</td>\n",
       "      <td>756684.10</td>\n",
       "      <td>950094.19</td>\n",
       "      <td>700005.00</td>\n",
       "    </tr>\n",
       "    <tr>\n",
       "      <th>TRIVANDRUM</th>\n",
       "      <td>2415102.84</td>\n",
       "      <td>1240375.85</td>\n",
       "      <td>2735710.87</td>\n",
       "      <td>2161676.67</td>\n",
       "      <td>3601443.30</td>\n",
       "      <td>2147403.75</td>\n",
       "      <td>209667.48</td>\n",
       "      <td>269912.99</td>\n",
       "      <td>555862.12</td>\n",
       "    </tr>\n",
       "  </tbody>\n",
       "</table>\n",
       "</div>"
      ],
      "text/plain": [
       "Product             Gold                              Platimum              \\\n",
       "Yearly_Spend        2004         2005         2006        2004        2005   \n",
       "City                                                                         \n",
       "BANGALORE     9289878.54  12892362.99  12030611.09  1112732.30   912284.97   \n",
       "BOMBAY        6987853.53   8983018.28   7917144.31   897264.94   711804.94   \n",
       "CALCUTTA      7477140.98  10303355.80  11167532.77  2037690.30  4434696.31   \n",
       "CHENNAI       1059618.50   3740945.58   2704288.62  3535652.38  5053956.32   \n",
       "COCHIN        7315850.15  12110613.03  10499142.38  3419904.07  4960921.71   \n",
       "DELHI         2806495.00   1964845.27   2957103.32   283512.89   494157.86   \n",
       "PATNA         2072567.90   3252615.77   2276181.69  1113069.60  2883231.07   \n",
       "TRIVANDRUM    2415102.84   1240375.85   2735710.87  2161676.67  3601443.30   \n",
       "\n",
       "Product                       Silver                         \n",
       "Yearly_Spend        2006        2004       2005        2006  \n",
       "City                                                         \n",
       "BANGALORE      685831.27  1291852.58  830612.34  1415480.94  \n",
       "BOMBAY         972130.01   532089.03  508988.54  1092833.80  \n",
       "CALCUTTA      3589606.66   500006.00  440147.06  1157956.42  \n",
       "CHENNAI       5024923.40   282056.86  377184.49   350009.50  \n",
       "COCHIN        4920592.29   814229.62  652269.38  1269990.87  \n",
       "DELHI          176788.72   768172.30  612311.21   854899.97  \n",
       "PATNA         1256137.65   756684.10  950094.19   700005.00  \n",
       "TRIVANDRUM    2147403.75   209667.48  269912.99   555862.12  "
      ]
     },
     "execution_count": 174,
     "metadata": {},
     "output_type": "execute_result"
    }
   ],
   "source": [
    "City_Wise_Data"
   ]
  },
  {
   "cell_type": "code",
   "execution_count": 175,
   "metadata": {},
   "outputs": [
    {
     "data": {
      "image/png": "[encoded data removed]",
      "text/plain": [
       "<Figure size 432x288 with 1 Axes>"
      ]
     },
     "metadata": {
      "needs_background": "light"
     },
     "output_type": "display_data"
    }
   ],
   "source": [
    "City_Wise_Data.plot(kind='bar',stacked=True)\n",
    "plt.show()"
   ]
  },
  {
   "cell_type": "markdown",
   "metadata": {},
   "source": [
    "### 4. Create graphs for"
   ]
  },
  {
   "cell_type": "markdown",
   "metadata": {},
   "source": [
    "#### a. Monthly comparison of total spends, city wise"
   ]
  },
  {
   "cell_type": "code",
   "execution_count": 178,
   "metadata": {},
   "outputs": [],
   "source": [
    "Customer_Spend_Transaction['Monthly_Spend']=Customer_Spend_Transaction.Month.apply(lambda x:x.month)"
   ]
  },
  {
   "cell_type": "code",
   "execution_count": 183,
   "metadata": {},
   "outputs": [
    {
     "data": {
      "text/plain": [
       "<matplotlib.axes._subplots.AxesSubplot at 0x12f6134e2e8>"
      ]
     },
     "execution_count": 183,
     "metadata": {},
     "output_type": "execute_result"
    },
    {
     "data": {
      "image/png": "[encoded data removed]",
      "text/plain": [
       "<Figure size 432x288 with 1 Axes>"
      ]
     },
     "metadata": {
      "needs_background": "light"
     },
     "output_type": "display_data"
    }
   ],
   "source": [
    "pd.pivot_table(data = Customer_Spend_Transaction, index = 'City', columns='Monthly_Spend', \n",
    "               values='Amount', aggfunc='sum').plot(kind='bar',stacked=True)"
   ]
  },
  {
   "cell_type": "markdown",
   "metadata": {},
   "source": [
    "####  b. Comparison of yearly spend on air tickets"
   ]
  },
  {
   "cell_type": "code",
   "execution_count": 188,
   "metadata": {},
   "outputs": [
    {
     "data": {
      "image/png": "[encoded data removed]",
      "text/plain": [
       "<Figure size 432x288 with 1 Axes>"
      ]
     },
     "metadata": {
      "needs_background": "light"
     },
     "output_type": "display_data"
    }
   ],
   "source": [
    "pd.pivot_table(data = Customer_Spend_Transaction[Customer_Spend_Transaction.Type=='AIR TICKET'], index = 'Type', columns='Yearly_Spend', \n",
    "               values='Amount', aggfunc='sum').plot(kind='bar')\n",
    "plt.show()"
   ]
  },
  {
   "cell_type": "markdown",
   "metadata": {},
   "source": [
    "####  c. Comparison of monthly spend for each product (look for any seasonality that exists in terms of spend)"
   ]
  },
  {
   "cell_type": "code",
   "execution_count": 190,
   "metadata": {},
   "outputs": [
    {
     "data": {
      "text/plain": [
       "<matplotlib.axes._subplots.AxesSubplot at 0x12f6161bfd0>"
      ]
     },
     "execution_count": 190,
     "metadata": {},
     "output_type": "execute_result"
    },
    {
     "data": {
      "image/png": "[encoded data removed]",
      "text/plain": [
       "<Figure size 432x288 with 1 Axes>"
      ]
     },
     "metadata": {
      "needs_background": "light"
     },
     "output_type": "display_data"
    }
   ],
   "source": [
    "pd.pivot_table(data = Customer_Spend_Transaction, index = 'Product', columns='Monthly_Spend', \n",
    "               values='Amount', aggfunc='sum').plot(kind='bar')"
   ]
  },
  {
   "cell_type": "code",
   "execution_count": 191,
   "metadata": {},
   "outputs": [
    {
     "data": {
      "text/plain": [
       "<matplotlib.axes._subplots.AxesSubplot at 0x12f615de7b8>"
      ]
     },
     "execution_count": 191,
     "metadata": {},
     "output_type": "execute_result"
    },
    {
     "data": {
      "image/png": "[encoded data removed]",
      "text/plain": [
       "<Figure size 432x288 with 1 Axes>"
      ]
     },
     "metadata": {
      "needs_background": "light"
     },
     "output_type": "display_data"
    }
   ],
   "source": [
    "pd.pivot_table(data = Customer_Spend_Transaction, index = 'Product', columns='Monthly_Spend', \n",
    "               values='Amount', aggfunc='sum').plot(kind='bar',stacked=True)"
   ]
  },
  {
   "cell_type": "code",
   "execution_count": 193,
   "metadata": {},
   "outputs": [
    {
     "data": {
      "text/plain": [
       "<matplotlib.axes._subplots.AxesSubplot at 0x12f618b1d68>"
      ]
     },
     "execution_count": 193,
     "metadata": {},
     "output_type": "execute_result"
    },
    {
     "data": {
      "image/png": "[encoded data removed]",
      "text/plain": [
       "<Figure size 432x288 with 1 Axes>"
      ]
     },
     "metadata": {
      "needs_background": "light"
     },
     "output_type": "display_data"
    }
   ],
   "source": [
    "pd.pivot_table(data = Customer_Spend_Transaction, index = 'Monthly_Spend', columns='Product', \n",
    "               values='Amount', aggfunc='sum').plot(kind='bar')"
   ]
  },
  {
   "cell_type": "markdown",
   "metadata": {},
   "source": [
    "### You need to find top 10 customers for each city in terms of their repayment amount by different products and by different time periods i.e. year or month. The user should be able to specify the product (Gold/Silver/Platinum) and time period (yearly or monthly) and the function should automatically take these inputs while identifying the top 10 customers."
   ]
  },
  {
   "cell_type": "code",
   "execution_count": 196,
   "metadata": {},
   "outputs": [],
   "source": [
    "Customer_Repayment_Transaction['yearly']=Customer_Repayment_Transaction.Month.apply(lambda x:x.year)\n",
    "Customer_Repayment_Transaction['monthly']=Customer_Repayment_Transaction.Month.apply(lambda x:x.month)"
   ]
  },
  {
   "cell_type": "code",
   "execution_count": 205,
   "metadata": {},
   "outputs": [],
   "source": [
    "def top10Customers(product_category,time_period):\n",
    "    return Customer_Repayment_Transaction.loc[(Customer_Repayment_Transaction.Product == product_category)].groupby(['Customer','City','Product',time_period]).Amount.sum().reset_index().sort_values('Amount',ascending=False).head(10)"
   ]
  },
  {
   "cell_type": "code",
   "execution_count": 211,
   "metadata": {},
   "outputs": [
    {
     "name": "stdout",
     "output_type": "stream",
     "text": [
      "Please Enter Product Category and product category should be in Gold/Silver/Platinum: Gold\n",
      "Please Enter Time Period and time period should be in yearly/monthly: yearly\n"
     ]
    }
   ],
   "source": [
    "product_category=str(input(\"Please Enter Product Category and product category should be in Gold/Silver/Platinum: \"))\n",
    "time_period=str(input(\"Please Enter Time Period and time period should be in yearly/monthly: \"))"
   ]
  },
  {
   "cell_type": "code",
   "execution_count": 212,
   "metadata": {},
   "outputs": [],
   "source": [
    "top10Customers_Analysis=top10Customers(product_category,time_period)"
   ]
  },
  {
   "cell_type": "code",
   "execution_count": 213,
   "metadata": {},
   "outputs": [
    {
     "data": {
      "text/html": [
       "<div>\n",
       "<style scoped>\n",
       "    .dataframe tbody tr th:only-of-type {\n",
       "        vertical-align: middle;\n",
       "    }\n",
       "\n",
       "    .dataframe tbody tr th {\n",
       "        vertical-align: top;\n",
       "    }\n",
       "\n",
       "    .dataframe thead th {\n",
       "        text-align: right;\n",
       "    }\n",
       "</style>\n",
       "<table border=\"1\" class=\"dataframe\">\n",
       "  <thead>\n",
       "    <tr style=\"text-align: right;\">\n",
       "      <th></th>\n",
       "      <th>Customer</th>\n",
       "      <th>City</th>\n",
       "      <th>Product</th>\n",
       "      <th>yearly</th>\n",
       "      <th>Amount</th>\n",
       "    </tr>\n",
       "  </thead>\n",
       "  <tbody>\n",
       "    <tr>\n",
       "      <th>64</th>\n",
       "      <td>A61</td>\n",
       "      <td>COCHIN</td>\n",
       "      <td>Gold</td>\n",
       "      <td>2005</td>\n",
       "      <td>4276860.55</td>\n",
       "    </tr>\n",
       "    <tr>\n",
       "      <th>55</th>\n",
       "      <td>A44</td>\n",
       "      <td>DELHI</td>\n",
       "      <td>Gold</td>\n",
       "      <td>2005</td>\n",
       "      <td>4165317.77</td>\n",
       "    </tr>\n",
       "    <tr>\n",
       "      <th>58</th>\n",
       "      <td>A45</td>\n",
       "      <td>COCHIN</td>\n",
       "      <td>Gold</td>\n",
       "      <td>2005</td>\n",
       "      <td>4042447.57</td>\n",
       "    </tr>\n",
       "    <tr>\n",
       "      <th>52</th>\n",
       "      <td>A43</td>\n",
       "      <td>BANGALORE</td>\n",
       "      <td>Gold</td>\n",
       "      <td>2005</td>\n",
       "      <td>4006956.60</td>\n",
       "    </tr>\n",
       "    <tr>\n",
       "      <th>13</th>\n",
       "      <td>A13</td>\n",
       "      <td>BANGALORE</td>\n",
       "      <td>Gold</td>\n",
       "      <td>2005</td>\n",
       "      <td>3757673.00</td>\n",
       "    </tr>\n",
       "    <tr>\n",
       "      <th>65</th>\n",
       "      <td>A61</td>\n",
       "      <td>COCHIN</td>\n",
       "      <td>Gold</td>\n",
       "      <td>2006</td>\n",
       "      <td>3744127.41</td>\n",
       "    </tr>\n",
       "    <tr>\n",
       "      <th>61</th>\n",
       "      <td>A60</td>\n",
       "      <td>CALCUTTA</td>\n",
       "      <td>Gold</td>\n",
       "      <td>2005</td>\n",
       "      <td>3742856.10</td>\n",
       "    </tr>\n",
       "    <tr>\n",
       "      <th>14</th>\n",
       "      <td>A13</td>\n",
       "      <td>BANGALORE</td>\n",
       "      <td>Gold</td>\n",
       "      <td>2006</td>\n",
       "      <td>3477314.89</td>\n",
       "    </tr>\n",
       "    <tr>\n",
       "      <th>38</th>\n",
       "      <td>A29</td>\n",
       "      <td>CALCUTTA</td>\n",
       "      <td>Gold</td>\n",
       "      <td>2006</td>\n",
       "      <td>3434298.00</td>\n",
       "    </tr>\n",
       "    <tr>\n",
       "      <th>35</th>\n",
       "      <td>A28</td>\n",
       "      <td>TRIVANDRUM</td>\n",
       "      <td>Gold</td>\n",
       "      <td>2006</td>\n",
       "      <td>3376614.65</td>\n",
       "    </tr>\n",
       "  </tbody>\n",
       "</table>\n",
       "</div>"
      ],
      "text/plain": [
       "   Customer        City Product  yearly      Amount\n",
       "64      A61      COCHIN    Gold    2005  4276860.55\n",
       "55      A44       DELHI    Gold    2005  4165317.77\n",
       "58      A45      COCHIN    Gold    2005  4042447.57\n",
       "52      A43   BANGALORE    Gold    2005  4006956.60\n",
       "13      A13   BANGALORE    Gold    2005  3757673.00\n",
       "65      A61      COCHIN    Gold    2006  3744127.41\n",
       "61      A60    CALCUTTA    Gold    2005  3742856.10\n",
       "14      A13   BANGALORE    Gold    2006  3477314.89\n",
       "38      A29    CALCUTTA    Gold    2006  3434298.00\n",
       "35      A28  TRIVANDRUM    Gold    2006  3376614.65"
      ]
     },
     "execution_count": 213,
     "metadata": {},
     "output_type": "execute_result"
    }
   ],
   "source": [
    "top10Customers_Analysis"
   ]
  },
  {
   "cell_type": "code",
   "execution_count": null,
   "metadata": {},
   "outputs": [],
   "source": []
  }
 ],
 "metadata": {
  "kernelspec": {
   "display_name": "Python 3 (ipykernel)",
   "language": "python",
   "name": "python3"
  },
  "language_info": {
   "codemirror_mode": {
    "name": "ipython",
    "version": 3
   },
   "file_extension": ".py",
   "mimetype": "text/x-python",
   "name": "python",
   "nbconvert_exporter": "python",
   "pygments_lexer": "ipython3",
   "version": "3.9.7"
  }
 },
 "nbformat": 4,
 "nbformat_minor": 2
}
